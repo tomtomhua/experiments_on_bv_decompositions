{
 "cells": [
  {
   "cell_type": "code",
   "execution_count": 7,
   "metadata": {},
   "outputs": [],
   "source": [
    "from sklearn.linear_model import LogisticRegression\n",
    "from sklearn.naive_bayes import GaussianNB\n",
    "from sklearn.model_selection import train_test_split\n",
    "\n",
    "import matplotlib.pyplot as plt\n",
    "import seaborn as sb\n",
    "import pandas as pd\n",
    "import numpy as np\n",
    "\n",
    "from pmlb import fetch_data, classification_dataset_names\n",
    "from scipy import stats\n",
    "\n",
    "import warnings\n",
    "warnings.filterwarnings('ignore')"
   ]
  },
  {
   "cell_type": "code",
   "execution_count": 2,
   "metadata": {},
   "outputs": [
    {
     "name": "stdout",
     "output_type": "stream",
     "text": [
      "166\n",
      "                age     workclass        fnlwgt     education  education-num  \\\n",
      "count  48842.000000  48842.000000  4.884200e+04  48842.000000   48842.000000   \n",
      "mean      38.643585      3.870439  1.896641e+05     10.288420      10.078089   \n",
      "std       13.710510      1.464234  1.056040e+05      3.874492       2.570973   \n",
      "min       17.000000      0.000000  1.228500e+04      0.000000       1.000000   \n",
      "25%       28.000000      4.000000  1.175505e+05      9.000000       9.000000   \n",
      "50%       37.000000      4.000000  1.781445e+05     11.000000      10.000000   \n",
      "75%       48.000000      4.000000  2.376420e+05     12.000000      12.000000   \n",
      "max       90.000000      8.000000  1.490400e+06     15.000000      16.000000   \n",
      "\n",
      "       marital-status    occupation  relationship          race           sex  \\\n",
      "count    48842.000000  48842.000000  48842.000000  48842.000000  48842.000000   \n",
      "mean         2.618750      6.577700      1.443287      3.668052      0.668482   \n",
      "std          1.507703      4.230509      1.602151      0.845986      0.470764   \n",
      "min          0.000000      0.000000      0.000000      0.000000      0.000000   \n",
      "25%          2.000000      3.000000      0.000000      4.000000      0.000000   \n",
      "50%          2.000000      7.000000      1.000000      4.000000      1.000000   \n",
      "75%          4.000000     10.000000      3.000000      4.000000      1.000000   \n",
      "max          6.000000     14.000000      5.000000      4.000000      1.000000   \n",
      "\n",
      "       capital-gain  capital-loss  hours-per-week  native-country  \\\n",
      "count  48842.000000  48842.000000    48842.000000    48842.000000   \n",
      "mean    1079.067626     87.502314       40.422382       36.749355   \n",
      "std     7452.019058    403.004552       12.391444        7.775343   \n",
      "min        0.000000      0.000000        1.000000        0.000000   \n",
      "25%        0.000000      0.000000       40.000000       39.000000   \n",
      "50%        0.000000      0.000000       40.000000       39.000000   \n",
      "75%        0.000000      0.000000       45.000000       39.000000   \n",
      "max    99999.000000   4356.000000       99.000000       41.000000   \n",
      "\n",
      "             target  \n",
      "count  48842.000000  \n",
      "mean       0.760718  \n",
      "std        0.426649  \n",
      "min        0.000000  \n",
      "25%        1.000000  \n",
      "50%        1.000000  \n",
      "75%        1.000000  \n",
      "max        1.000000  \n"
     ]
    }
   ],
   "source": [
    "from pmlb import fetch_data, classification_dataset_names\n",
    "adult_data = fetch_data('adult')\n",
    "print(len(classification_dataset_names))\n",
    "print(adult_data.describe())"
   ]
  },
  {
   "cell_type": "code",
   "execution_count": 3,
   "metadata": {},
   "outputs": [
    {
     "data": {
      "text/plain": [
       "Text(0,0.5,'Test Accuracy')"
      ]
     },
     "execution_count": 3,
     "metadata": {},
     "output_type": "execute_result"
    },
    {
     "data": {
      "image/png": "[encoded data removed]",
      "text/plain": [
       "<Figure size 432x288 with 1 Axes>"
      ]
     },
     "metadata": {
      "needs_background": "light"
     },
     "output_type": "display_data"
    }
   ],
   "source": [
    "logit_test_scores = []\n",
    "gnb_test_scores = []\n",
    "\n",
    "for classification_dataset in classification_dataset_names:\n",
    "    X, y = fetch_data(classification_dataset, return_X_y=True)\n",
    "    train_X, test_X, train_y, test_y = train_test_split(X, y)\n",
    "\n",
    "    logit = LogisticRegression()\n",
    "    gnb = GaussianNB()\n",
    "\n",
    "    logit.fit(train_X, train_y)\n",
    "    gnb.fit(train_X, train_y)\n",
    "    logit_test_scores.append(logit.score(test_X, test_y))\n",
    "    gnb_test_scores.append(gnb.score(test_X, test_y))\n",
    "\n",
    "sb.boxplot(data=[logit_test_scores, gnb_test_scores], notch=True)\n",
    "plt.xticks([0, 1], ['LogisticRegression', 'GaussianNB'])\n",
    "plt.ylabel('Test Accuracy')\n",
    "## show the boxplot based on log_Regression & GaussNB\n",
    "\n",
    "## more to do normalized"
   ]
  },
  {
   "cell_type": "code",
   "execution_count": 14,
   "metadata": {},
   "outputs": [
    {
     "data": {
      "text/html": [
       "<div>\n",
       "<style scoped>\n",
       "    .dataframe tbody tr th:only-of-type {\n",
       "        vertical-align: middle;\n",
       "    }\n",
       "\n",
       "    .dataframe tbody tr th {\n",
       "        vertical-align: top;\n",
       "    }\n",
       "\n",
       "    .dataframe thead th {\n",
       "        text-align: right;\n",
       "    }\n",
       "</style>\n",
       "<table border=\"1\" class=\"dataframe\">\n",
       "  <thead>\n",
       "    <tr style=\"text-align: right;\">\n",
       "      <th></th>\n",
       "      <th>0</th>\n",
       "      <th>1</th>\n",
       "      <th>2</th>\n",
       "      <th>3</th>\n",
       "      <th>4</th>\n",
       "      <th>5</th>\n",
       "      <th>6</th>\n",
       "      <th>7</th>\n",
       "      <th>8</th>\n",
       "      <th>9</th>\n",
       "      <th>...</th>\n",
       "      <th>156</th>\n",
       "      <th>157</th>\n",
       "      <th>158</th>\n",
       "      <th>159</th>\n",
       "      <th>160</th>\n",
       "      <th>161</th>\n",
       "      <th>162</th>\n",
       "      <th>163</th>\n",
       "      <th>164</th>\n",
       "      <th>165</th>\n",
       "    </tr>\n",
       "  </thead>\n",
       "  <tbody>\n",
       "    <tr>\n",
       "      <th>0</th>\n",
       "      <td>0.4825</td>\n",
       "      <td>0.5025</td>\n",
       "      <td>0.4725</td>\n",
       "      <td>0.4925</td>\n",
       "      <td>0.46</td>\n",
       "      <td>0.4900</td>\n",
       "      <td>0.963696</td>\n",
       "      <td>0.996700</td>\n",
       "      <td>0.790926</td>\n",
       "      <td>0.953854</td>\n",
       "      <td>...</td>\n",
       "      <td>0.954128</td>\n",
       "      <td>0.516129</td>\n",
       "      <td>0.8680</td>\n",
       "      <td>0.8728</td>\n",
       "      <td>0.965035</td>\n",
       "      <td>0.5775</td>\n",
       "      <td>0.535131</td>\n",
       "      <td>0.911111</td>\n",
       "      <td>0.848361</td>\n",
       "      <td>0.491892</td>\n",
       "    </tr>\n",
       "    <tr>\n",
       "      <th>1</th>\n",
       "      <td>0.4775</td>\n",
       "      <td>0.5125</td>\n",
       "      <td>0.4450</td>\n",
       "      <td>0.4650</td>\n",
       "      <td>0.45</td>\n",
       "      <td>0.4725</td>\n",
       "      <td>0.501650</td>\n",
       "      <td>0.514851</td>\n",
       "      <td>0.796004</td>\n",
       "      <td>0.921944</td>\n",
       "      <td>...</td>\n",
       "      <td>0.944954</td>\n",
       "      <td>0.661290</td>\n",
       "      <td>0.8128</td>\n",
       "      <td>0.8032</td>\n",
       "      <td>0.951049</td>\n",
       "      <td>0.5525</td>\n",
       "      <td>0.460784</td>\n",
       "      <td>0.977778</td>\n",
       "      <td>0.848361</td>\n",
       "      <td>0.218919</td>\n",
       "    </tr>\n",
       "  </tbody>\n",
       "</table>\n",
       "<p>2 rows × 166 columns</p>\n",
       "</div>"
      ],
      "text/plain": [
       "      0       1       2       3     4       5         6         7         8    \\\n",
       "0  0.4825  0.5025  0.4725  0.4925  0.46  0.4900  0.963696  0.996700  0.790926   \n",
       "1  0.4775  0.5125  0.4450  0.4650  0.45  0.4725  0.501650  0.514851  0.796004   \n",
       "\n",
       "        9    ...       156       157     158     159       160     161  \\\n",
       "0  0.953854  ...  0.954128  0.516129  0.8680  0.8728  0.965035  0.5775   \n",
       "1  0.921944  ...  0.944954  0.661290  0.8128  0.8032  0.951049  0.5525   \n",
       "\n",
       "        162       163       164       165  \n",
       "0  0.535131  0.911111  0.848361  0.491892  \n",
       "1  0.460784  0.977778  0.848361  0.218919  \n",
       "\n",
       "[2 rows x 166 columns]"
      ]
     },
     "execution_count": 14,
     "metadata": {},
     "output_type": "execute_result"
    }
   ],
   "source": [
    "###save data \n",
    "logit_gnb = pd.DataFrame(data = [logit_test_scores, gnb_test_scores])\n",
    "logit_gnb.to_csv('logit_gnb.csv', encoding = 'utf-8', index = False)\n"
   ]
  },
  {
   "cell_type": "code",
   "execution_count": 23,
   "metadata": {},
   "outputs": [
    {
     "data": {
      "text/html": [
       "<div>\n",
       "<style scoped>\n",
       "    .dataframe tbody tr th:only-of-type {\n",
       "        vertical-align: middle;\n",
       "    }\n",
       "\n",
       "    .dataframe tbody tr th {\n",
       "        vertical-align: top;\n",
       "    }\n",
       "\n",
       "    .dataframe thead th {\n",
       "        text-align: right;\n",
       "    }\n",
       "</style>\n",
       "<table border=\"1\" class=\"dataframe\">\n",
       "  <thead>\n",
       "    <tr style=\"text-align: right;\">\n",
       "      <th></th>\n",
       "      <th>0</th>\n",
       "    </tr>\n",
       "  </thead>\n",
       "  <tbody>\n",
       "    <tr>\n",
       "      <th>count</th>\n",
       "      <td>166.000000</td>\n",
       "    </tr>\n",
       "    <tr>\n",
       "      <th>mean</th>\n",
       "      <td>0.986923</td>\n",
       "    </tr>\n",
       "    <tr>\n",
       "      <th>std</th>\n",
       "      <td>0.048121</td>\n",
       "    </tr>\n",
       "    <tr>\n",
       "      <th>min</th>\n",
       "      <td>0.565000</td>\n",
       "    </tr>\n",
       "    <tr>\n",
       "      <th>25%</th>\n",
       "      <td>1.000000</td>\n",
       "    </tr>\n",
       "    <tr>\n",
       "      <th>50%</th>\n",
       "      <td>1.000000</td>\n",
       "    </tr>\n",
       "    <tr>\n",
       "      <th>75%</th>\n",
       "      <td>1.000000</td>\n",
       "    </tr>\n",
       "    <tr>\n",
       "      <th>max</th>\n",
       "      <td>1.000000</td>\n",
       "    </tr>\n",
       "  </tbody>\n",
       "</table>\n",
       "</div>"
      ],
      "text/plain": [
       "                0\n",
       "count  166.000000\n",
       "mean     0.986923\n",
       "std      0.048121\n",
       "min      0.565000\n",
       "25%      1.000000\n",
       "50%      1.000000\n",
       "75%      1.000000\n",
       "max      1.000000"
      ]
     },
     "execution_count": 23,
     "metadata": {},
     "output_type": "execute_result"
    }
   ],
   "source": [
    "input_logit_gnb = pd.read_csv('logit_gnb.csv', encoding = 'utf-8')\n",
    "input_logit_gnb.describe()"
   ]
  },
  {
   "cell_type": "code",
   "execution_count": 16,
   "metadata": {},
   "outputs": [
    {
     "name": "stdout",
     "output_type": "stream",
     "text": [
      "(48842, 14)\n",
      "                  0\n",
      "count  48842.000000\n",
      "mean       0.760718\n",
      "std        0.426649\n",
      "min        0.000000\n",
      "25%        1.000000\n",
      "50%        1.000000\n",
      "75%        1.000000\n",
      "max        1.000000\n"
     ]
    }
   ],
   "source": [
    "#take adult data as an example!!\n",
    "X,y = fetch_data('adult',return_X_y = True) \n",
    "print(X.shape)\n",
    "y0 = pd.DataFrame(y)\n",
    "print(y0.describe())\n",
    "\n",
    "train_X, test_X, train_y, test_y = train_test_split(X, y)"
   ]
  },
  {
   "cell_type": "code",
   "execution_count": 17,
   "metadata": {},
   "outputs": [
    {
     "name": "stdout",
     "output_type": "stream",
     "text": [
      "0.790189173695848\n",
      "0.7933830153140611\n",
      "0.8348210629760052\n"
     ]
    }
   ],
   "source": [
    "## for adult data check 3 methods results\n",
    "\n",
    "from sklearn.ensemble import ExtraTreesClassifier\n",
    "\n",
    "#ML part\n",
    "logit = LogisticRegression()\n",
    "gnb = GaussianNB()\n",
    "forest = ExtraTreesClassifier()\n",
    "\n",
    "\n",
    "logit.fit(train_X, train_y)\n",
    "gnb.fit(train_X, train_y)\n",
    "forest.fit(train_X,train_y)\n",
    "print(logit.score(test_X, test_y))\n",
    "print(gnb.score(test_X, test_y))\n",
    "print(forest.score(test_X,test_y))\n"
   ]
  },
  {
   "cell_type": "code",
   "execution_count": 18,
   "metadata": {},
   "outputs": [
    {
     "data": {
      "text/html": [
       "<div>\n",
       "<style scoped>\n",
       "    .dataframe tbody tr th:only-of-type {\n",
       "        vertical-align: middle;\n",
       "    }\n",
       "\n",
       "    .dataframe tbody tr th {\n",
       "        vertical-align: top;\n",
       "    }\n",
       "\n",
       "    .dataframe thead th {\n",
       "        text-align: right;\n",
       "    }\n",
       "</style>\n",
       "<table border=\"1\" class=\"dataframe\">\n",
       "  <thead>\n",
       "    <tr style=\"text-align: right;\">\n",
       "      <th></th>\n",
       "      <th>0</th>\n",
       "    </tr>\n",
       "  </thead>\n",
       "  <tbody>\n",
       "    <tr>\n",
       "      <th>count</th>\n",
       "      <td>166.000000</td>\n",
       "    </tr>\n",
       "    <tr>\n",
       "      <th>mean</th>\n",
       "      <td>0.986923</td>\n",
       "    </tr>\n",
       "    <tr>\n",
       "      <th>std</th>\n",
       "      <td>0.048121</td>\n",
       "    </tr>\n",
       "    <tr>\n",
       "      <th>min</th>\n",
       "      <td>0.565000</td>\n",
       "    </tr>\n",
       "    <tr>\n",
       "      <th>25%</th>\n",
       "      <td>1.000000</td>\n",
       "    </tr>\n",
       "    <tr>\n",
       "      <th>50%</th>\n",
       "      <td>1.000000</td>\n",
       "    </tr>\n",
       "    <tr>\n",
       "      <th>75%</th>\n",
       "      <td>1.000000</td>\n",
       "    </tr>\n",
       "    <tr>\n",
       "      <th>max</th>\n",
       "      <td>1.000000</td>\n",
       "    </tr>\n",
       "  </tbody>\n",
       "</table>\n",
       "</div>"
      ],
      "text/plain": [
       "                0\n",
       "count  166.000000\n",
       "mean     0.986923\n",
       "std      0.048121\n",
       "min      0.565000\n",
       "25%      1.000000\n",
       "50%      1.000000\n",
       "75%      1.000000\n",
       "max      1.000000"
      ]
     },
     "execution_count": 18,
     "metadata": {},
     "output_type": "execute_result"
    }
   ],
   "source": [
    "## run a thorough result on Extreme Tree and comparing \n",
    "\n",
    "from sklearn.ensemble import ExtraTreesClassifier\n",
    "\n",
    "forest_test_scores = []\n",
    "\n",
    "for classification_dataset in classification_dataset_names:\n",
    "    X, y = fetch_data(classification_dataset, return_X_y=True)\n",
    "    train_X, test_X, train_y, test_y = train_test_split(X, y)\n",
    "    \n",
    "    forest = ExtraTreesClassifier()\n",
    "    \n",
    "    forest.fit(X, y)\n",
    "    \n",
    "    forest_test_scores.append(forest.score(test_X,test_y))\n",
    "    \n",
    "pd.forest_test_scores = pd.DataFrame(data = forest_test_scores)\n",
    "pd.forest_test_scores.describe()"
   ]
  },
  {
   "cell_type": "code",
   "execution_count": 20,
   "metadata": {},
   "outputs": [
    {
     "data": {
      "text/plain": [
       "Text(0,0.5,'Test Accuracy')"
      ]
     },
     "execution_count": 20,
     "metadata": {},
     "output_type": "execute_result"
    },
    {
     "data": {
      "image/png": "[encoded data removed]",
      "text/plain": [
       "<Figure size 432x288 with 1 Axes>"
      ]
     },
     "metadata": {
      "needs_background": "light"
     },
     "output_type": "display_data"
    }
   ],
   "source": [
    "sb.boxplot(data=[forest_test_scores], notch=True)\n",
    "plt.xticks([0], ['ExtremeTree'])\n",
    "plt.ylabel('Test Accuracy')"
   ]
  },
  {
   "cell_type": "code",
   "execution_count": 25,
   "metadata": {},
   "outputs": [],
   "source": [
    "extra_forest = pd.DataFrame(data = forest_test_scores)\n",
    "extra_forest.to_csv('extra_forest.csv', encoding = 'utf-8', index = False)"
   ]
  },
  {
   "cell_type": "code",
   "execution_count": 27,
   "metadata": {},
   "outputs": [
    {
     "data": {
      "text/html": [
       "<div>\n",
       "<style scoped>\n",
       "    .dataframe tbody tr th:only-of-type {\n",
       "        vertical-align: middle;\n",
       "    }\n",
       "\n",
       "    .dataframe tbody tr th {\n",
       "        vertical-align: top;\n",
       "    }\n",
       "\n",
       "    .dataframe thead th {\n",
       "        text-align: right;\n",
       "    }\n",
       "</style>\n",
       "<table border=\"1\" class=\"dataframe\">\n",
       "  <thead>\n",
       "    <tr style=\"text-align: right;\">\n",
       "      <th></th>\n",
       "      <th>0</th>\n",
       "    </tr>\n",
       "  </thead>\n",
       "  <tbody>\n",
       "    <tr>\n",
       "      <th>count</th>\n",
       "      <td>166.000000</td>\n",
       "    </tr>\n",
       "    <tr>\n",
       "      <th>mean</th>\n",
       "      <td>0.986923</td>\n",
       "    </tr>\n",
       "    <tr>\n",
       "      <th>std</th>\n",
       "      <td>0.048121</td>\n",
       "    </tr>\n",
       "    <tr>\n",
       "      <th>min</th>\n",
       "      <td>0.565000</td>\n",
       "    </tr>\n",
       "    <tr>\n",
       "      <th>25%</th>\n",
       "      <td>1.000000</td>\n",
       "    </tr>\n",
       "    <tr>\n",
       "      <th>50%</th>\n",
       "      <td>1.000000</td>\n",
       "    </tr>\n",
       "    <tr>\n",
       "      <th>75%</th>\n",
       "      <td>1.000000</td>\n",
       "    </tr>\n",
       "    <tr>\n",
       "      <th>max</th>\n",
       "      <td>1.000000</td>\n",
       "    </tr>\n",
       "  </tbody>\n",
       "</table>\n",
       "</div>"
      ],
      "text/plain": [
       "                0\n",
       "count  166.000000\n",
       "mean     0.986923\n",
       "std      0.048121\n",
       "min      0.565000\n",
       "25%      1.000000\n",
       "50%      1.000000\n",
       "75%      1.000000\n",
       "max      1.000000"
      ]
     },
     "execution_count": 27,
     "metadata": {},
     "output_type": "execute_result"
    }
   ],
   "source": [
    "input2 = pd.read_csv('extra_forest.csv', encoding = 'utf-8')\n",
    "input2.describe()"
   ]
  },
  {
   "cell_type": "code",
   "execution_count": 7,
   "metadata": {},
   "outputs": [
    {
     "name": "stdout",
     "output_type": "stream",
     "text": [
      "(48842, 14)\n",
      "                  0\n",
      "count  48842.000000\n",
      "mean       0.760718\n",
      "std        0.426649\n",
      "min        0.000000\n",
      "25%        1.000000\n",
      "50%        1.000000\n",
      "75%        1.000000\n",
      "max        1.000000\n",
      "0:\tlearn: 0.4191731\ttotal: 88.1ms\tremaining: 88.1ms\n",
      "1:\tlearn: 0.3651552\ttotal: 112ms\tremaining: 0us\n"
     ]
    },
    {
     "data": {
      "text/plain": [
       "0.8405535992138236"
      ]
     },
     "execution_count": 7,
     "metadata": {},
     "output_type": "execute_result"
    }
   ],
   "source": [
    "#test one catboost\n",
    "#take adult data as an example!!\n",
    "X,y = fetch_data('adult',return_X_y = True) \n",
    "print(X.shape)\n",
    "y0 = pd.DataFrame(y)\n",
    "print(y0.describe())\n",
    "\n",
    "train_X, test_X, train_y, test_y = train_test_split(X, y)\n",
    "from catboost import CatBoostClassifier, Pool\n",
    "\n",
    "catboost = CatBoostClassifier(iterations=2, learning_rate=1, depth=2, loss_function='Logloss')\n",
    "catboost.fit(X,y)\n",
    "catboost.score(test_X,test_y)\n",
    "\n"
   ]
  },
  {
   "cell_type": "code",
   "execution_count": 35,
   "metadata": {},
   "outputs": [
    {
     "data": {
      "text/html": [
       "<div>\n",
       "<style scoped>\n",
       "    .dataframe tbody tr th:only-of-type {\n",
       "        vertical-align: middle;\n",
       "    }\n",
       "\n",
       "    .dataframe tbody tr th {\n",
       "        vertical-align: top;\n",
       "    }\n",
       "\n",
       "    .dataframe thead th {\n",
       "        text-align: right;\n",
       "    }\n",
       "</style>\n",
       "<table border=\"1\" class=\"dataframe\">\n",
       "  <thead>\n",
       "    <tr style=\"text-align: right;\">\n",
       "      <th></th>\n",
       "      <th>0</th>\n",
       "    </tr>\n",
       "  </thead>\n",
       "  <tbody>\n",
       "    <tr>\n",
       "      <th>count</th>\n",
       "      <td>166.000000</td>\n",
       "    </tr>\n",
       "    <tr>\n",
       "      <th>mean</th>\n",
       "      <td>0.716796</td>\n",
       "    </tr>\n",
       "    <tr>\n",
       "      <th>std</th>\n",
       "      <td>0.201963</td>\n",
       "    </tr>\n",
       "    <tr>\n",
       "      <th>min</th>\n",
       "      <td>0.008777</td>\n",
       "    </tr>\n",
       "    <tr>\n",
       "      <th>25%</th>\n",
       "      <td>0.595312</td>\n",
       "    </tr>\n",
       "    <tr>\n",
       "      <th>50%</th>\n",
       "      <td>0.758201</td>\n",
       "    </tr>\n",
       "    <tr>\n",
       "      <th>75%</th>\n",
       "      <td>0.863367</td>\n",
       "    </tr>\n",
       "    <tr>\n",
       "      <th>max</th>\n",
       "      <td>1.000000</td>\n",
       "    </tr>\n",
       "  </tbody>\n",
       "</table>\n",
       "</div>"
      ],
      "text/plain": [
       "                0\n",
       "count  166.000000\n",
       "mean     0.716796\n",
       "std      0.201963\n",
       "min      0.008777\n",
       "25%      0.595312\n",
       "50%      0.758201\n",
       "75%      0.863367\n",
       "max      1.000000"
      ]
     },
     "execution_count": 35,
     "metadata": {},
     "output_type": "execute_result"
    }
   ],
   "source": [
    "##result run in another file\n",
    "input3 = pd.read_csv('catboost.csv', encoding = 'utf-8')\n",
    "input3.describe()"
   ]
  },
  {
   "cell_type": "code",
   "execution_count": 4,
   "metadata": {},
   "outputs": [],
   "source": [
    "import lightgbm as lgb \n",
    "import pickle "
   ]
  },
  {
   "cell_type": "code",
   "execution_count": 8,
   "metadata": {},
   "outputs": [
    {
     "name": "stdout",
     "output_type": "stream",
     "text": [
      "(48842, 14)\n",
      "                  0\n",
      "count  48842.000000\n",
      "mean       0.760718\n",
      "std        0.426649\n",
      "min        0.000000\n",
      "25%        1.000000\n",
      "50%        1.000000\n",
      "75%        1.000000\n",
      "max        1.000000\n"
     ]
    }
   ],
   "source": [
    "X,y = fetch_data('adult',return_X_y = True) \n",
    "print(X.shape)\n",
    "y0 = pd.DataFrame(y)\n",
    "print(y0.describe())\n",
    "\n",
    "train_X, test_X, train_y, test_y = train_test_split(X, y)"
   ]
  },
  {
   "cell_type": "code",
   "execution_count": 29,
   "metadata": {},
   "outputs": [
    {
     "data": {
      "text/plain": [
       "0.8702808942756531"
      ]
     },
     "execution_count": 29,
     "metadata": {},
     "output_type": "execute_result"
    }
   ],
   "source": [
    "clf = lgb.LGBMClassifier(n_estimators=400)\n",
    "clf.fit(train_X,train_y)\n",
    "clf.score(test_X,test_y)"
   ]
  },
  {
   "cell_type": "code",
   "execution_count": 31,
   "metadata": {},
   "outputs": [
    {
     "data": {
      "text/html": [
       "<div>\n",
       "<style scoped>\n",
       "    .dataframe tbody tr th:only-of-type {\n",
       "        vertical-align: middle;\n",
       "    }\n",
       "\n",
       "    .dataframe tbody tr th {\n",
       "        vertical-align: top;\n",
       "    }\n",
       "\n",
       "    .dataframe thead th {\n",
       "        text-align: right;\n",
       "    }\n",
       "</style>\n",
       "<table border=\"1\" class=\"dataframe\">\n",
       "  <thead>\n",
       "    <tr style=\"text-align: right;\">\n",
       "      <th></th>\n",
       "      <th>0</th>\n",
       "    </tr>\n",
       "  </thead>\n",
       "  <tbody>\n",
       "    <tr>\n",
       "      <th>count</th>\n",
       "      <td>166.000000</td>\n",
       "    </tr>\n",
       "    <tr>\n",
       "      <th>mean</th>\n",
       "      <td>0.959600</td>\n",
       "    </tr>\n",
       "    <tr>\n",
       "      <th>std</th>\n",
       "      <td>0.095244</td>\n",
       "    </tr>\n",
       "    <tr>\n",
       "      <th>min</th>\n",
       "      <td>0.490000</td>\n",
       "    </tr>\n",
       "    <tr>\n",
       "      <th>25%</th>\n",
       "      <td>0.978333</td>\n",
       "    </tr>\n",
       "    <tr>\n",
       "      <th>50%</th>\n",
       "      <td>1.000000</td>\n",
       "    </tr>\n",
       "    <tr>\n",
       "      <th>75%</th>\n",
       "      <td>1.000000</td>\n",
       "    </tr>\n",
       "    <tr>\n",
       "      <th>max</th>\n",
       "      <td>1.000000</td>\n",
       "    </tr>\n",
       "  </tbody>\n",
       "</table>\n",
       "</div>"
      ],
      "text/plain": [
       "                0\n",
       "count  166.000000\n",
       "mean     0.959600\n",
       "std      0.095244\n",
       "min      0.490000\n",
       "25%      0.978333\n",
       "50%      1.000000\n",
       "75%      1.000000\n",
       "max      1.000000"
      ]
     },
     "execution_count": 31,
     "metadata": {},
     "output_type": "execute_result"
    }
   ],
   "source": [
    "lgbm_test_scores = []\n",
    "\n",
    "for classification_dataset in classification_dataset_names:\n",
    "    X, y = fetch_data(classification_dataset, return_X_y=True)\n",
    "    train_X, test_X, train_y, test_y = train_test_split(X, y)\n",
    "    \n",
    "    clf = lgb.LGBMClassifier(n_estimators=400)\n",
    "    \n",
    "    clf.fit(X, y)\n",
    "    \n",
    "    lgbm_test_scores.append(clf.score(test_X,test_y))\n",
    "    \n",
    "pd.lgbm_test_scores = pd.DataFrame(data = lgbm_test_scores)\n",
    "pd.lgbm_test_scores.describe()"
   ]
  },
  {
   "cell_type": "code",
   "execution_count": 32,
   "metadata": {},
   "outputs": [
    {
     "data": {
      "text/plain": [
       "Text(0,0.5,'Test Accuracy')"
      ]
     },
     "execution_count": 32,
     "metadata": {},
     "output_type": "execute_result"
    },
    {
     "data": {
      "image/png": "[encoded data removed]",
      "text/plain": [
       "<Figure size 432x288 with 1 Axes>"
      ]
     },
     "metadata": {
      "needs_background": "light"
     },
     "output_type": "display_data"
    }
   ],
   "source": [
    "sb.boxplot(data=[lgbm_test_scores], notch=True)\n",
    "plt.xticks([0], ['LGBM'])\n",
    "plt.ylabel('Test Accuracy')"
   ]
  },
  {
   "cell_type": "code",
   "execution_count": 8,
   "metadata": {},
   "outputs": [],
   "source": [
    "size_set = np.array([[0.6,0.2,0.2],[0.6,0.1,0.1],[0.5,0.2,0.2],[0.5,0.2,0.2]])"
   ]
  },
  {
   "cell_type": "code",
   "execution_count": 9,
   "metadata": {},
   "outputs": [
    {
     "data": {
      "text/plain": [
       "array([[0.6, 0.2, 0.2],\n",
       "       [0.6, 0.1, 0.1],\n",
       "       [0.5, 0.2, 0.2],\n",
       "       [0.5, 0.2, 0.2]])"
      ]
     },
     "execution_count": 9,
     "metadata": {},
     "output_type": "execute_result"
    }
   ],
   "source": [
    "size_set"
   ]
  },
  {
   "cell_type": "code",
   "execution_count": null,
   "metadata": {},
   "outputs": [],
   "source": []
  }
 ],
 "metadata": {
  "kernelspec": {
   "display_name": "Python 3",
   "language": "python",
   "name": "python3"
  },
  "language_info": {
   "codemirror_mode": {
    "name": "ipython",
    "version": 3
   },
   "file_extension": ".py",
   "mimetype": "text/x-python",
   "name": "python",
   "nbconvert_exporter": "python",
   "pygments_lexer": "ipython3",
   "version": "3.7.0"
  }
 },
 "nbformat": 4,
 "nbformat_minor": 2
}
