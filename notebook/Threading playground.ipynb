{
 "cells": [
  {
   "cell_type": "code",
   "execution_count": 1,
   "metadata": {},
   "outputs": [],
   "source": [
    "import multiprocessing\n",
    "import time"
   ]
  },
  {
   "cell_type": "code",
   "execution_count": 3,
   "metadata": {},
   "outputs": [
    {
     "name": "stdout",
     "output_type": "stream",
     "text": [
      "worker_1\n",
      "The number of CPU is:12\n",
      "child   p.name:Process-2\tp.id64967\n",
      "child   p.name:Process-1\tp.id64966\n",
      "child   p.name:Process-3\tp.id64968\n",
      "END!!!!!!!!!!!!!!!!!\n",
      "worker_2\n",
      "worker_3\n",
      "end worker_1\n",
      "end worker_2\n",
      "end worker_3\n"
     ]
    }
   ],
   "source": [
    "def worker_1(interval):\n",
    "    print(\"worker_1\") \n",
    "    time.sleep(interval)\n",
    "    print (\"end worker_1\")\n",
    "\n",
    "def worker_2(interval):\n",
    "    print (\"worker_2\")\n",
    "    time.sleep(interval)\n",
    "    print (\"end worker_2\")\n",
    "\n",
    "def worker_3(interval):\n",
    "    print (\"worker_3\")\n",
    "    time.sleep(interval)\n",
    "    print (\"end worker_3\")\n",
    "\n",
    "if __name__ == \"__main__\":\n",
    "    p1 = multiprocessing.Process(target = worker_1, args = (2,))\n",
    "    p2 = multiprocessing.Process(target = worker_2, args = (3,))\n",
    "    p3 = multiprocessing.Process(target = worker_3, args = (4,))\n",
    "\n",
    "    p1.start()\n",
    "    p2.start()\n",
    "    p3.start()\n",
    "\n",
    "    print(\"The number of CPU is:\" + str(multiprocessing.cpu_count()))\n",
    "    for p in multiprocessing.active_children():\n",
    "        print(\"child   p.name:\" + p.name + \"\\tp.id\" + str(p.pid))\n",
    "    print (\"END!!!!!!!!!!!!!!!!!\")"
   ]
  },
  {
   "cell_type": "code",
   "execution_count": 6,
   "metadata": {},
   "outputs": [
    {
     "name": "stdout",
     "output_type": "stream",
     "text": [
      "the time is Thu Mar 14 20:05:21 2019\n",
      "the time is Thu Mar 14 20:05:24 2019\n",
      "the time is Thu Mar 14 20:05:27 2019\n",
      "the time is Thu Mar 14 20:05:30 2019\n",
      "the time is Thu Mar 14 20:05:33 2019\n"
     ]
    }
   ],
   "source": [
    "class ClockProcess(multiprocessing.Process):\n",
    "    def __init__(self, interval):\n",
    "        multiprocessing.Process.__init__(self)\n",
    "        self.interval = interval\n",
    "\n",
    "    def run(self):\n",
    "        n = 5\n",
    "        while n > 0:\n",
    "            print(\"the time is {0}\".format(time.ctime()))\n",
    "            time.sleep(self.interval)\n",
    "            n -= 1\n",
    "\n",
    "if __name__ == '__main__':\n",
    "    p = ClockProcess(3)\n",
    "    p.start()"
   ]
  },
  {
   "cell_type": "code",
   "execution_count": null,
   "metadata": {},
   "outputs": [],
   "source": []
  }
 ],
 "metadata": {
  "kernelspec": {
   "display_name": "Python 3",
   "language": "python",
   "name": "python3"
  },
  "language_info": {
   "codemirror_mode": {
    "name": "ipython",
    "version": 3
   },
   "file_extension": ".py",
   "mimetype": "text/x-python",
   "name": "python",
   "nbconvert_exporter": "python",
   "pygments_lexer": "ipython3",
   "version": "3.7.0"
  }
 },
 "nbformat": 4,
 "nbformat_minor": 2
}
