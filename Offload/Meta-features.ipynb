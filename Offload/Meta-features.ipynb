{
 "cells": [
  {
   "cell_type": "code",
   "execution_count": 1,
   "metadata": {},
   "outputs": [],
   "source": [
    "from sklearn.linear_model import LogisticRegression\n",
    "from sklearn.naive_bayes import GaussianNB\n",
    "from sklearn.model_selection import train_test_split\n",
    "from sklearn.ensemble import ExtraTreesClassifier\n",
    "\n",
    "import matplotlib.pyplot as plt\n",
    "import seaborn as sb\n",
    "import pandas as pd\n",
    "import numpy as np\n",
    "\n",
    "from pmlb import fetch_data, classification_dataset_names\n",
    "from scipy import stats\n",
    "\n",
    "import random as rd\n",
    "import math\n",
    "\n",
    "import plotly\n",
    "\n",
    "import warnings\n",
    "warnings.filterwarnings('ignore')"
   ]
  },
  {
   "cell_type": "code",
   "execution_count": null,
   "metadata": {},
   "outputs": [],
   "source": [
    "out = []\n",
    "for classification_dataset in classification_dataset_names:\n",
    "        data = fetch_data(classification_dataset)\n",
    "        numerical = sum(data.dtypes == \"float64\")\n",
    "        categorical = sum(data.dtypes == \"int64\")\n",
    "        X, y = fetch_data(classification_dataset, return_X_y=True)\n",
    "        y = y - min(y) # exists y = -1 etc\n",
    "        sample_num = X.shape[0]\n",
    "        feature_num = X.shape[1]\n",
    "        class_num = max(y) + 1\n",
    "        num_precent = 1\n",
    "        if categorical != 0:\n",
    "            num_precent = numerical/(numerical + categorical)\n",
    "        bin_multi = 0\n",
    "        if(class_num>2):\n",
    "            bin_multi = 1\n",
    "        unique, counts = np.unique(y, return_counts=True)\n",
    "        imbalance = unique.shape[0]*sum((counts/sample_num - 1/unique.shape[0])*\n",
    "                                        (counts/sample_num - 1/unique.shape[0]))\n",
    "        out_i = [num_precent,sample_num,feature_num,class_num,bin_multi,imbalance]\n",
    "        out.append(out_i)\n",
    "        \n",
    "        "
   ]
  },
  {
   "cell_type": "code",
   "execution_count": null,
   "metadata": {},
   "outputs": [],
   "source": [
    "np_out = np.array(out)\n",
    "np.save(\"meta.npy\",np_out)"
   ]
  },
  {
   "cell_type": "code",
   "execution_count": 2,
   "metadata": {},
   "outputs": [
    {
     "data": {
      "text/plain": [
       "(166, 6)"
      ]
     },
     "execution_count": 2,
     "metadata": {},
     "output_type": "execute_result"
    }
   ],
   "source": [
    "meta = np.load(\"meta.npy\")\n",
    "meta.shape"
   ]
  },
  {
   "cell_type": "code",
   "execution_count": null,
   "metadata": {},
   "outputs": [],
   "source": [
    "out2 = pd.DataFrame(meta,columns=[\"num_precent\",\"sample_num\",\"feature_num\",\"class_num\",\"bin_multi\",\"imbalance\"]).describe()\n",
    "out2.to_csv(\"summary.csv\")"
   ]
  },
  {
   "cell_type": "code",
   "execution_count": null,
   "metadata": {},
   "outputs": [],
   "source": [
    "out2"
   ]
  },
  {
   "cell_type": "code",
   "execution_count": 3,
   "metadata": {},
   "outputs": [],
   "source": [
    "pd_meta = pd.DataFrame(meta)"
   ]
  },
  {
   "cell_type": "code",
   "execution_count": 4,
   "metadata": {},
   "outputs": [],
   "source": [
    "pd_meta.to_csv(\"meta.csv\")"
   ]
  },
  {
   "cell_type": "code",
   "execution_count": 21,
   "metadata": {},
   "outputs": [],
   "source": [
    "c1 = np.repeat([0.3,0.4,0.5,0.6,0.7],9)\n",
    "c2 = np.tile(np.repeat([0.1,0.15,0.2],3),5)\n",
    "c3 = np.tile(np.tile([0.1,0.15,0.2],3),5)\n",
    "size_set = np.column_stack((c1,c2,c3))\n",
    "#numsize = size_set.shape[0]\n"
   ]
  },
  {
   "cell_type": "code",
   "execution_count": 36,
   "metadata": {},
   "outputs": [],
   "source": [
    "size_set = size_set.reshape(15,9)\n",
    "pd_size = pd.DataFrame(size_set,columns=np.tile([\"池集\",\"训练集\",\"测试集\"],3))\n",
    "pd_size.to_csv(\"size.csv\")"
   ]
  },
  {
   "cell_type": "code",
   "execution_count": null,
   "metadata": {},
   "outputs": [],
   "source": [
    "X, y = fetch_data(\"adult\", return_X_y=True)"
   ]
  },
  {
   "cell_type": "code",
   "execution_count": null,
   "metadata": {},
   "outputs": [],
   "source": [
    "X.shape[0]"
   ]
  },
  {
   "cell_type": "code",
   "execution_count": null,
   "metadata": {},
   "outputs": [],
   "source": [
    "import numpy as np\n",
    "import matplotlib.pyplot as plt\n",
    "\n",
    "# Fixing random state for reproducibility\n",
    "np.random.seed(19680801)\n",
    "\n",
    "# fake up some data\n",
    "spread = np.random.rand(50) * 100\n",
    "center = np.ones(25) * 50\n",
    "flier_high = np.random.rand(10) * 100 + 100\n",
    "flier_low = np.random.rand(10) * -100\n",
    "data = np.concatenate((spread, center, flier_high, flier_low))"
   ]
  },
  {
   "cell_type": "code",
   "execution_count": null,
   "metadata": {},
   "outputs": [],
   "source": [
    "data.shape"
   ]
  },
  {
   "cell_type": "code",
   "execution_count": null,
   "metadata": {},
   "outputs": [],
   "source": [
    "spread.shape"
   ]
  },
  {
   "cell_type": "code",
   "execution_count": null,
   "metadata": {},
   "outputs": [],
   "source": []
  }
 ],
 "metadata": {
  "kernelspec": {
   "display_name": "Python 3",
   "language": "python",
   "name": "python3"
  },
  "language_info": {
   "codemirror_mode": {
    "name": "ipython",
    "version": 3
   },
   "file_extension": ".py",
   "mimetype": "text/x-python",
   "name": "python",
   "nbconvert_exporter": "python",
   "pygments_lexer": "ipython3",
   "version": "3.7.0"
  }
 },
 "nbformat": 4,
 "nbformat_minor": 2
}
