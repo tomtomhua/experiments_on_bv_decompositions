{
 "cells": [
  {
   "cell_type": "code",
   "execution_count": 1,
   "metadata": {},
   "outputs": [],
   "source": [
    "from sklearn.linear_model import LogisticRegression\n",
    "from sklearn.naive_bayes import GaussianNB\n",
    "from sklearn.model_selection import train_test_split\n",
    "from sklearn.ensemble import ExtraTreesClassifier\n",
    "\n",
    "import matplotlib.pyplot as plt\n",
    "import seaborn as sb\n",
    "import pandas as pd\n",
    "import numpy as np\n",
    "\n",
    "from pmlb import fetch_data, classification_dataset_names\n",
    "from scipy import stats\n",
    "\n",
    "import random as rd\n",
    "import math\n",
    "\n",
    "import plotly\n",
    "\n",
    "import warnings\n",
    "warnings.filterwarnings('ignore')"
   ]
  },
  {
   "cell_type": "code",
   "execution_count": 2,
   "metadata": {},
   "outputs": [],
   "source": [
    "meta = np.load(\"meta.npy\")\n",
    "#num_precent,sample_num,feature_num,class_num,bin_multi,imbalance\n",
    "bin_index = np.array(np.where(meta[:,4]==0)[0],dtype=np.int)\n",
    "multi_index = np.where(meta[:,4]==1)[0]\n",
    "bin_meta = meta[bin_index,:]\n",
    "multi_meta = meta[multi_index,:]\n",
    "\n",
    "\n",
    "\n",
    "nonsmall_index = np.array(np.where(meta[:,1]>300)[0])\n",
    "nonsmall_meta = meta[nonsmall_index,:]\n"
   ]
  },
  {
   "cell_type": "code",
   "execution_count": 3,
   "metadata": {},
   "outputs": [
    {
     "data": {
      "text/plain": [
       "121"
      ]
     },
     "execution_count": 3,
     "metadata": {},
     "output_type": "execute_result"
    }
   ],
   "source": [
    "len(nonsmall_index)"
   ]
  },
  {
   "cell_type": "code",
   "execution_count": 4,
   "metadata": {},
   "outputs": [],
   "source": [
    "bv3 = np.load(\"lgbbv3.npy\")\n",
    "bv4 = np.load(\"lgbbv4.npy\")\n",
    "bv5 = np.load(\"lgbbv5.npy\")\n",
    "bv6 = np.load(\"lgbbv6.npy\")\n",
    "bv7 = np.load(\"lgbbv7.npy\")"
   ]
  },
  {
   "cell_type": "code",
   "execution_count": 5,
   "metadata": {},
   "outputs": [
    {
     "data": {
      "text/plain": [
       "(166, 3, 6)"
      ]
     },
     "execution_count": 5,
     "metadata": {},
     "output_type": "execute_result"
    }
   ],
   "source": [
    "standard = bv6[4]\n",
    "standard.shape"
   ]
  },
  {
   "cell_type": "code",
   "execution_count": 6,
   "metadata": {},
   "outputs": [
    {
     "data": {
      "text/html": [
       "<div>\n",
       "<style scoped>\n",
       "    .dataframe tbody tr th:only-of-type {\n",
       "        vertical-align: middle;\n",
       "    }\n",
       "\n",
       "    .dataframe tbody tr th {\n",
       "        vertical-align: top;\n",
       "    }\n",
       "\n",
       "    .dataframe thead th {\n",
       "        text-align: right;\n",
       "    }\n",
       "</style>\n",
       "<table border=\"1\" class=\"dataframe\">\n",
       "  <thead>\n",
       "    <tr style=\"text-align: right;\">\n",
       "      <th></th>\n",
       "      <th>bias</th>\n",
       "      <th>var</th>\n",
       "      <th>avr_train_err</th>\n",
       "      <th>std_train_err</th>\n",
       "      <th>avr_test_err</th>\n",
       "      <th>std_test_err</th>\n",
       "    </tr>\n",
       "  </thead>\n",
       "  <tbody>\n",
       "    <tr>\n",
       "      <th>count</th>\n",
       "      <td>166.000000</td>\n",
       "      <td>166.000000</td>\n",
       "      <td>166.000000</td>\n",
       "      <td>166.000000</td>\n",
       "      <td>166.000000</td>\n",
       "      <td>166.000000</td>\n",
       "    </tr>\n",
       "    <tr>\n",
       "      <th>mean</th>\n",
       "      <td>0.257422</td>\n",
       "      <td>0.187576</td>\n",
       "      <td>0.169229</td>\n",
       "      <td>0.032542</td>\n",
       "      <td>0.294429</td>\n",
       "      <td>0.041157</td>\n",
       "    </tr>\n",
       "    <tr>\n",
       "      <th>std</th>\n",
       "      <td>0.215187</td>\n",
       "      <td>0.154163</td>\n",
       "      <td>0.183345</td>\n",
       "      <td>0.032548</td>\n",
       "      <td>0.200771</td>\n",
       "      <td>0.045245</td>\n",
       "    </tr>\n",
       "    <tr>\n",
       "      <th>min</th>\n",
       "      <td>0.000000</td>\n",
       "      <td>0.000000</td>\n",
       "      <td>0.000000</td>\n",
       "      <td>0.000000</td>\n",
       "      <td>0.012937</td>\n",
       "      <td>0.000000</td>\n",
       "    </tr>\n",
       "    <tr>\n",
       "      <th>25%</th>\n",
       "      <td>0.066833</td>\n",
       "      <td>0.055918</td>\n",
       "      <td>0.004489</td>\n",
       "      <td>0.002766</td>\n",
       "      <td>0.112721</td>\n",
       "      <td>0.009194</td>\n",
       "    </tr>\n",
       "    <tr>\n",
       "      <th>50%</th>\n",
       "      <td>0.217391</td>\n",
       "      <td>0.154797</td>\n",
       "      <td>0.110556</td>\n",
       "      <td>0.019996</td>\n",
       "      <td>0.269697</td>\n",
       "      <td>0.030819</td>\n",
       "    </tr>\n",
       "    <tr>\n",
       "      <th>75%</th>\n",
       "      <td>0.392665</td>\n",
       "      <td>0.285865</td>\n",
       "      <td>0.273721</td>\n",
       "      <td>0.055527</td>\n",
       "      <td>0.456128</td>\n",
       "      <td>0.055623</td>\n",
       "    </tr>\n",
       "    <tr>\n",
       "      <th>max</th>\n",
       "      <td>1.000000</td>\n",
       "      <td>0.710000</td>\n",
       "      <td>0.680000</td>\n",
       "      <td>0.175136</td>\n",
       "      <td>0.823636</td>\n",
       "      <td>0.300000</td>\n",
       "    </tr>\n",
       "  </tbody>\n",
       "</table>\n",
       "</div>"
      ],
      "text/plain": [
       "             bias         var  avr_train_err  std_train_err  avr_test_err  \\\n",
       "count  166.000000  166.000000     166.000000     166.000000    166.000000   \n",
       "mean     0.257422    0.187576       0.169229       0.032542      0.294429   \n",
       "std      0.215187    0.154163       0.183345       0.032548      0.200771   \n",
       "min      0.000000    0.000000       0.000000       0.000000      0.012937   \n",
       "25%      0.066833    0.055918       0.004489       0.002766      0.112721   \n",
       "50%      0.217391    0.154797       0.110556       0.019996      0.269697   \n",
       "75%      0.392665    0.285865       0.273721       0.055527      0.456128   \n",
       "max      1.000000    0.710000       0.680000       0.175136      0.823636   \n",
       "\n",
       "       std_test_err  \n",
       "count    166.000000  \n",
       "mean       0.041157  \n",
       "std        0.045245  \n",
       "min        0.000000  \n",
       "25%        0.009194  \n",
       "50%        0.030819  \n",
       "75%        0.055623  \n",
       "max        0.300000  "
      ]
     },
     "execution_count": 6,
     "metadata": {},
     "output_type": "execute_result"
    }
   ],
   "source": [
    "standard_o = []\n",
    "standard_d = []\n",
    "standard_r = []\n",
    "for i in range(0,166):\n",
    "    standard_o.append(standard[i][0])\n",
    "    standard_d.append(standard[i][1])\n",
    "    standard_r.append(standard[i][2])\n",
    "np_standard_o = np.array(standard_o)\n",
    "np_standard_d = np.array(standard_d)\n",
    "np_standard_r = np.array(standard_r)\n",
    "\n",
    "pd_standard_o = pd.DataFrame(np_standard_o,columns=[\"bias\",\"var\",\"avr_train_err\",\"std_train_err\",\"avr_test_err\",\"std_test_err\"])\n",
    "pd_standard_d = pd.DataFrame(np_standard_d,columns=[\"bias\",\"var\",\"avr_train_err\",\"std_train_err\",\"avr_test_err\",\"std_test_err\"])\n",
    "pd_standard_r = pd.DataFrame(np_standard_r,columns=[\"bias\",\"var\",\"avr_train_err\",\"std_train_err\",\"avr_test_err\",\"std_test_err\"])\n",
    "pd_standard_o.describe()"
   ]
  },
  {
   "cell_type": "code",
   "execution_count": null,
   "metadata": {},
   "outputs": [],
   "source": []
  },
  {
   "cell_type": "code",
   "execution_count": 18,
   "metadata": {},
   "outputs": [
    {
     "data": {
      "image/png": "[encoded data removed]",
      "text/plain": [
       "<Figure size 432x288 with 1 Axes>"
      ]
     },
     "metadata": {
      "needs_background": "light"
     },
     "output_type": "display_data"
    }
   ],
   "source": [
    "standard_odr = np.transpose(np.array([standard_o,standard_d,standard_r])[:,:,0])\n",
    "plt.boxplot(standard_odr,labels=[\"o\",\"d\",\"r\"])\n",
    "plt.savefig(\"pic2.4.1.jpg\")\n",
    "plt.show()"
   ]
  },
  {
   "cell_type": "code",
   "execution_count": 8,
   "metadata": {},
   "outputs": [
    {
     "data": {
      "image/png": "[encoded data removed]",
      "text/plain": [
       "<Figure size 432x288 with 1 Axes>"
      ]
     },
     "metadata": {
      "needs_background": "light"
     },
     "output_type": "display_data"
    }
   ],
   "source": [
    "gap_od = np_standard_d - np_standard_o\n",
    "gap_bias_od = gap_od[:,0]\n",
    "gap_var_od = gap_od[:,1]\n",
    "gap_loss_od = gap_od[:,4]\n",
    "\n",
    "plt.scatter(gap_bias_od,gap_var_od)\n",
    "plt.xlabel(\"Delta Bias\")\n",
    "plt.ylabel(\"Delta Var\")\n",
    "plt.show()"
   ]
  },
  {
   "cell_type": "code",
   "execution_count": 17,
   "metadata": {},
   "outputs": [
    {
     "data": {
      "image/png": "[encoded data removed]",
      "text/plain": [
       "<Figure size 720x360 with 2 Axes>"
      ]
     },
     "metadata": {
      "needs_background": "light"
     },
     "output_type": "display_data"
    }
   ],
   "source": [
    "gap_od = np_standard_d - np_standard_o\n",
    "gap_bias_od = gap_od[:,0]\n",
    "gap_var_od = gap_od[:,1]\n",
    "gap_loss_od = gap_od[:,4]\n",
    "\n",
    "gap_or = np_standard_r - np_standard_o\n",
    "gap_bias_or = gap_or[:,0]\n",
    "gap_var_or = gap_or[:,1]\n",
    "gap_loss_or = gap_or[:,4]\n",
    "\n",
    "\n",
    "plt.figure(figsize=[10,5])\n",
    "plt.subplot(121)\n",
    "plt.scatter(gap_bias_od,gap_var_od)\n",
    "plt.xlabel(\"Delta Bias\")\n",
    "plt.ylabel(\"Delta Var\")\n",
    "plt.title(\"o v.s. d\")\n",
    "plt.subplot(122)\n",
    "plt.scatter(gap_bias_or,gap_var_or)\n",
    "plt.xlabel(\"Delta Bias\")\n",
    "plt.ylabel(\"Delta Var\")\n",
    "plt.title(\"o v.s. r\")\n",
    "plt.savefig(\"pic2.4.2.jpg\")\n",
    "plt.show()"
   ]
  },
  {
   "cell_type": "code",
   "execution_count": 10,
   "metadata": {},
   "outputs": [
    {
     "data": {
      "text/html": [
       "<div>\n",
       "<style scoped>\n",
       "    .dataframe tbody tr th:only-of-type {\n",
       "        vertical-align: middle;\n",
       "    }\n",
       "\n",
       "    .dataframe tbody tr th {\n",
       "        vertical-align: top;\n",
       "    }\n",
       "\n",
       "    .dataframe thead th {\n",
       "        text-align: right;\n",
       "    }\n",
       "</style>\n",
       "<table border=\"1\" class=\"dataframe\">\n",
       "  <thead>\n",
       "    <tr style=\"text-align: right;\">\n",
       "      <th></th>\n",
       "      <th>0</th>\n",
       "    </tr>\n",
       "  </thead>\n",
       "  <tbody>\n",
       "    <tr>\n",
       "      <th>count</th>\n",
       "      <td>166.000000</td>\n",
       "    </tr>\n",
       "    <tr>\n",
       "      <th>mean</th>\n",
       "      <td>-0.000058</td>\n",
       "    </tr>\n",
       "    <tr>\n",
       "      <th>std</th>\n",
       "      <td>0.000720</td>\n",
       "    </tr>\n",
       "    <tr>\n",
       "      <th>min</th>\n",
       "      <td>-0.009276</td>\n",
       "    </tr>\n",
       "    <tr>\n",
       "      <th>25%</th>\n",
       "      <td>0.000000</td>\n",
       "    </tr>\n",
       "    <tr>\n",
       "      <th>50%</th>\n",
       "      <td>0.000000</td>\n",
       "    </tr>\n",
       "    <tr>\n",
       "      <th>75%</th>\n",
       "      <td>0.000000</td>\n",
       "    </tr>\n",
       "    <tr>\n",
       "      <th>max</th>\n",
       "      <td>0.000000</td>\n",
       "    </tr>\n",
       "  </tbody>\n",
       "</table>\n",
       "</div>"
      ],
      "text/plain": [
       "                0\n",
       "count  166.000000\n",
       "mean    -0.000058\n",
       "std      0.000720\n",
       "min     -0.009276\n",
       "25%      0.000000\n",
       "50%      0.000000\n",
       "75%      0.000000\n",
       "max      0.000000"
      ]
     },
     "execution_count": 10,
     "metadata": {},
     "output_type": "execute_result"
    }
   ],
   "source": [
    "pd.DataFrame(gap_var_od).describe()"
   ]
  },
  {
   "cell_type": "code",
   "execution_count": 11,
   "metadata": {},
   "outputs": [
    {
     "data": {
      "text/plain": [
       "166"
      ]
     },
     "execution_count": 11,
     "metadata": {},
     "output_type": "execute_result"
    }
   ],
   "source": [
    "len(gap_bias_od)"
   ]
  },
  {
   "cell_type": "code",
   "execution_count": 12,
   "metadata": {},
   "outputs": [
    {
     "data": {
      "image/png": "[encoded data removed]",
      "text/plain": [
       "<Figure size 432x288 with 1 Axes>"
      ]
     },
     "metadata": {
      "needs_background": "light"
     },
     "output_type": "display_data"
    }
   ],
   "source": [
    "gap_or = np_standard_r - np_standard_o\n",
    "gap_bias_or = gap_or[:,0]\n",
    "gap_var_or = gap_or[:,1]\n",
    "gap_loss_or = gap_or[:,4]\n",
    "\n",
    "plt.scatter(gap_bias_or,gap_var_or)\n",
    "plt.xlabel(\"Delta Bias\")\n",
    "plt.ylabel(\"Delta Var\")\n",
    "plt.show()"
   ]
  },
  {
   "cell_type": "code",
   "execution_count": 13,
   "metadata": {},
   "outputs": [
    {
     "data": {
      "image/png": "[encoded data removed]",
      "text/plain": [
       "<Figure size 432x288 with 1 Axes>"
      ]
     },
     "metadata": {
      "needs_background": "light"
     },
     "output_type": "display_data"
    }
   ],
   "source": [
    "gap_od = gap_od[nonsmall_index,:]\n",
    "gap_bias_od = gap_od[:,0]\n",
    "gap_var_od = gap_od[:,1]\n",
    "gap_loss_od = gap_od[:,4]\n",
    "\n",
    "plt.scatter(gap_bias_od,gap_var_od)\n",
    "plt.xlabel(\"Delta Bias\")\n",
    "plt.ylabel(\"Delta Var\")\n",
    "plt.show()"
   ]
  },
  {
   "cell_type": "code",
   "execution_count": 14,
   "metadata": {},
   "outputs": [
    {
     "data": {
      "text/plain": [
       "121"
      ]
     },
     "execution_count": 14,
     "metadata": {},
     "output_type": "execute_result"
    }
   ],
   "source": [
    "len(gap_bias_od)"
   ]
  },
  {
   "cell_type": "code",
   "execution_count": 15,
   "metadata": {},
   "outputs": [
    {
     "data": {
      "image/png": "[encoded data removed]",
      "text/plain": [
       "<Figure size 432x288 with 1 Axes>"
      ]
     },
     "metadata": {
      "needs_background": "light"
     },
     "output_type": "display_data"
    }
   ],
   "source": [
    "gap_or = gap_or[nonsmall_index,:]\n",
    "gap_bias_or = gap_or[:,0]\n",
    "gap_var_or = gap_or[:,1]\n",
    "gap_loss_or = gap_or[:,4]\n",
    "\n",
    "plt.scatter(gap_bias_or,gap_var_or)\n",
    "plt.xlabel(\"Delta Bias\")\n",
    "plt.ylabel(\"Delta Var\")\n",
    "plt.show()"
   ]
  },
  {
   "cell_type": "code",
   "execution_count": 16,
   "metadata": {},
   "outputs": [
    {
     "name": "stdout",
     "output_type": "stream",
     "text": [
      "Ttest_indResult(statistic=0.5219772041761913, pvalue=0.6021676111246022)\n",
      "Ttest_indResult(statistic=-1.0337755772283812, pvalue=0.3022816462286527)\n",
      "Ttest_indResult(statistic=-1.0129106431184927, pvalue=0.3121229133998051)\n",
      "Ttest_indResult(statistic=0.46603644334056477, pvalue=0.6416120954578829)\n",
      "Ttest_indResult(statistic=5.164016613561705, pvalue=5.076009586361474e-07)\n",
      "Ttest_indResult(statistic=7.629741997356099, pvalue=5.510518651893896e-13)\n"
     ]
    }
   ],
   "source": [
    "print(stats.ttest_ind(gap_bias_od,[0]*len(gap_bias_od)))\n",
    "print(stats.ttest_ind(gap_var_od,[0]*len(gap_var_od)))\n",
    "print(stats.ttest_ind(gap_loss_od,[0]*len(gap_loss_od)))\n",
    "\n",
    "\n",
    "print(stats.ttest_ind(gap_bias_or,[0]*len(gap_bias_or)))\n",
    "print(stats.ttest_ind(gap_var_or,[0]*len(gap_var_or)))\n",
    "print(stats.ttest_ind(gap_loss_or,[0]*len(gap_loss_or)))"
   ]
  }
 ],
 "metadata": {
  "kernelspec": {
   "display_name": "Python 3",
   "language": "python",
   "name": "python3"
  },
  "language_info": {
   "codemirror_mode": {
    "name": "ipython",
    "version": 3
   },
   "file_extension": ".py",
   "mimetype": "text/x-python",
   "name": "python",
   "nbconvert_exporter": "python",
   "pygments_lexer": "ipython3",
   "version": "3.7.0"
  }
 },
 "nbformat": 4,
 "nbformat_minor": 2
}
