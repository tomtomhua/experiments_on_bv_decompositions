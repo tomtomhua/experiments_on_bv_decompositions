{
 "cells": [
  {
   "cell_type": "code",
   "execution_count": 1,
   "metadata": {},
   "outputs": [],
   "source": [
    "from sklearn.linear_model import LogisticRegression\n",
    "from sklearn.naive_bayes import GaussianNB\n",
    "from sklearn.model_selection import train_test_split\n",
    "from sklearn.ensemble import ExtraTreesClassifier\n",
    "\n",
    "import matplotlib.pyplot as plt\n",
    "import seaborn as sb\n",
    "import pandas as pd\n",
    "import numpy as np\n",
    "\n",
    "from pmlb import fetch_data, classification_dataset_names\n",
    "from scipy import stats\n",
    "\n",
    "import random as rd\n",
    "import math\n",
    "\n",
    "import plotly\n",
    "\n",
    "import warnings\n",
    "warnings.filterwarnings('ignore')\n",
    "\n",
    "import researchpy as rp\n",
    "import statsmodels.api as sm\n",
    "from statsmodels.formula.api import ols\n",
    "from statsmodels.stats.anova import anova_lm"
   ]
  },
  {
   "cell_type": "code",
   "execution_count": 2,
   "metadata": {},
   "outputs": [],
   "source": [
    "meta = np.load(\"meta.npy\")\n",
    "#num_precent,sample_num,feature_num,class_num,bin_multi,imbalance\n",
    "bin_index = np.array(np.where(meta[:,4]==0)[0],dtype=np.int)\n",
    "multi_index = np.where(meta[:,4]==1)[0]\n",
    "bin_meta = meta[bin_index,:]\n",
    "multi_meta = meta[multi_index,:]\n",
    "\n",
    "\n",
    "\n",
    "nonsmall_index = np.array(np.where(meta[:,1]>300)[0])\n",
    "nonsmall_meta = meta[nonsmall_index,:]\n"
   ]
  },
  {
   "cell_type": "code",
   "execution_count": 3,
   "metadata": {},
   "outputs": [
    {
     "data": {
      "text/plain": [
       "121"
      ]
     },
     "execution_count": 3,
     "metadata": {},
     "output_type": "execute_result"
    }
   ],
   "source": [
    "len(nonsmall_index)"
   ]
  },
  {
   "cell_type": "code",
   "execution_count": 4,
   "metadata": {},
   "outputs": [],
   "source": [
    "bv3 = np.load(\"outbv3.npy\")\n",
    "bv4 = np.load(\"outbv4.npy\")\n",
    "bv5 = np.load(\"outbv5.npy\")\n",
    "bv6 = np.load(\"outbv6.npy\")\n",
    "bv7 = np.load(\"outbv7.npy\")"
   ]
  },
  {
   "cell_type": "code",
   "execution_count": 5,
   "metadata": {},
   "outputs": [
    {
     "data": {
      "text/plain": [
       "(166, 3, 6)"
      ]
     },
     "execution_count": 5,
     "metadata": {},
     "output_type": "execute_result"
    }
   ],
   "source": [
    "standard = bv6[4]\n",
    "standard.shape"
   ]
  },
  {
   "cell_type": "code",
   "execution_count": 6,
   "metadata": {},
   "outputs": [
    {
     "data": {
      "text/html": [
       "<div>\n",
       "<style scoped>\n",
       "    .dataframe tbody tr th:only-of-type {\n",
       "        vertical-align: middle;\n",
       "    }\n",
       "\n",
       "    .dataframe tbody tr th {\n",
       "        vertical-align: top;\n",
       "    }\n",
       "\n",
       "    .dataframe thead th {\n",
       "        text-align: right;\n",
       "    }\n",
       "</style>\n",
       "<table border=\"1\" class=\"dataframe\">\n",
       "  <thead>\n",
       "    <tr style=\"text-align: right;\">\n",
       "      <th></th>\n",
       "      <th>bias</th>\n",
       "      <th>var</th>\n",
       "      <th>avr_train_err</th>\n",
       "      <th>std_train_err</th>\n",
       "      <th>avr_test_err</th>\n",
       "      <th>std_test_err</th>\n",
       "    </tr>\n",
       "  </thead>\n",
       "  <tbody>\n",
       "    <tr>\n",
       "      <th>count</th>\n",
       "      <td>166.000000</td>\n",
       "      <td>166.000000</td>\n",
       "      <td>166.000000</td>\n",
       "      <td>166.000000</td>\n",
       "      <td>166.000000</td>\n",
       "      <td>166.000000</td>\n",
       "    </tr>\n",
       "    <tr>\n",
       "      <th>mean</th>\n",
       "      <td>0.187242</td>\n",
       "      <td>0.192595</td>\n",
       "      <td>0.008044</td>\n",
       "      <td>0.003219</td>\n",
       "      <td>0.261850</td>\n",
       "      <td>0.046619</td>\n",
       "    </tr>\n",
       "    <tr>\n",
       "      <th>std</th>\n",
       "      <td>0.174600</td>\n",
       "      <td>0.130921</td>\n",
       "      <td>0.033727</td>\n",
       "      <td>0.007279</td>\n",
       "      <td>0.172084</td>\n",
       "      <td>0.040322</td>\n",
       "    </tr>\n",
       "    <tr>\n",
       "      <th>min</th>\n",
       "      <td>0.000000</td>\n",
       "      <td>0.007735</td>\n",
       "      <td>0.000000</td>\n",
       "      <td>0.000000</td>\n",
       "      <td>0.007955</td>\n",
       "      <td>0.000496</td>\n",
       "    </tr>\n",
       "    <tr>\n",
       "      <th>25%</th>\n",
       "      <td>0.045762</td>\n",
       "      <td>0.079006</td>\n",
       "      <td>0.000000</td>\n",
       "      <td>0.000000</td>\n",
       "      <td>0.103960</td>\n",
       "      <td>0.016858</td>\n",
       "    </tr>\n",
       "    <tr>\n",
       "      <th>50%</th>\n",
       "      <td>0.137682</td>\n",
       "      <td>0.185109</td>\n",
       "      <td>0.000000</td>\n",
       "      <td>0.000000</td>\n",
       "      <td>0.238276</td>\n",
       "      <td>0.036439</td>\n",
       "    </tr>\n",
       "    <tr>\n",
       "      <th>75%</th>\n",
       "      <td>0.274479</td>\n",
       "      <td>0.281969</td>\n",
       "      <td>0.001067</td>\n",
       "      <td>0.001755</td>\n",
       "      <td>0.394961</td>\n",
       "      <td>0.063339</td>\n",
       "    </tr>\n",
       "    <tr>\n",
       "      <th>max</th>\n",
       "      <td>1.000000</td>\n",
       "      <td>0.610250</td>\n",
       "      <td>0.244688</td>\n",
       "      <td>0.034434</td>\n",
       "      <td>0.815583</td>\n",
       "      <td>0.222881</td>\n",
       "    </tr>\n",
       "  </tbody>\n",
       "</table>\n",
       "</div>"
      ],
      "text/plain": [
       "             bias         var  avr_train_err  std_train_err  avr_test_err  \\\n",
       "count  166.000000  166.000000     166.000000     166.000000    166.000000   \n",
       "mean     0.187242    0.192595       0.008044       0.003219      0.261850   \n",
       "std      0.174600    0.130921       0.033727       0.007279      0.172084   \n",
       "min      0.000000    0.007735       0.000000       0.000000      0.007955   \n",
       "25%      0.045762    0.079006       0.000000       0.000000      0.103960   \n",
       "50%      0.137682    0.185109       0.000000       0.000000      0.238276   \n",
       "75%      0.274479    0.281969       0.001067       0.001755      0.394961   \n",
       "max      1.000000    0.610250       0.244688       0.034434      0.815583   \n",
       "\n",
       "       std_test_err  \n",
       "count    166.000000  \n",
       "mean       0.046619  \n",
       "std        0.040322  \n",
       "min        0.000496  \n",
       "25%        0.016858  \n",
       "50%        0.036439  \n",
       "75%        0.063339  \n",
       "max        0.222881  "
      ]
     },
     "execution_count": 6,
     "metadata": {},
     "output_type": "execute_result"
    }
   ],
   "source": [
    "standard_o = []\n",
    "standard_d = []\n",
    "standard_r = []\n",
    "for i in range(0,166):\n",
    "    standard_o.append(standard[i][0])\n",
    "    standard_d.append(standard[i][1])\n",
    "    standard_r.append(standard[i][2])\n",
    "np_standard_o = np.array(standard_o)\n",
    "np_standard_d = np.array(standard_d)\n",
    "np_standard_r = np.array(standard_r)\n",
    "\n",
    "pd_standard_o = pd.DataFrame(np_standard_o,columns=[\"bias\",\"var\",\"avr_train_err\",\"std_train_err\",\"avr_test_err\",\"std_test_err\"])\n",
    "pd_standard_d = pd.DataFrame(np_standard_d,columns=[\"bias\",\"var\",\"avr_train_err\",\"std_train_err\",\"avr_test_err\",\"std_test_err\"])\n",
    "pd_standard_r = pd.DataFrame(np_standard_r,columns=[\"bias\",\"var\",\"avr_train_err\",\"std_train_err\",\"avr_test_err\",\"std_test_err\"])\n",
    "pd_standard_o.describe()"
   ]
  },
  {
   "cell_type": "code",
   "execution_count": null,
   "metadata": {},
   "outputs": [],
   "source": []
  },
  {
   "cell_type": "code",
   "execution_count": 16,
   "metadata": {},
   "outputs": [
    {
     "data": {
      "image/png": "[encoded data removed]",
      "text/plain": [
       "<Figure size 1080x360 with 3 Axes>"
      ]
     },
     "metadata": {
      "needs_background": "light"
     },
     "output_type": "display_data"
    }
   ],
   "source": [
    "standard_odr_bias = np.transpose(np.array([standard_o,standard_d,standard_r])[:,:,0])\n",
    "standard_odr_var = np.transpose(np.array([standard_o,standard_d,standard_r])[:,:,1])\n",
    "standard_odr_loss = np.transpose(np.array([standard_o,standard_d,standard_r])[:,:,4])\n",
    "plt.figure(figsize = (15,5))\n",
    "plt.subplot(131)\n",
    "plt.boxplot(standard_odr_bias,labels=[\"o\",\"d\",\"r\"])\n",
    "plt.ylim([0,1])\n",
    "plt.title(\"Bias\")\n",
    "plt.subplot(132)\n",
    "plt.boxplot(standard_odr_var,labels=[\"o\",\"d\",\"r\"])\n",
    "plt.ylim([0,1])\n",
    "plt.title(\"Variance\")\n",
    "plt.subplot(133)\n",
    "plt.boxplot(standard_odr_loss,labels=[\"o\",\"d\",\"r\"])\n",
    "plt.ylim([0,1])\n",
    "plt.title(\"Loss\")\n",
    "plt.show()"
   ]
  },
  {
   "cell_type": "code",
   "execution_count": 8,
   "metadata": {},
   "outputs": [
    {
     "data": {
      "image/png": "[encoded data removed]",
      "text/plain": [
       "<Figure size 432x288 with 1 Axes>"
      ]
     },
     "metadata": {
      "needs_background": "light"
     },
     "output_type": "display_data"
    }
   ],
   "source": [
    "gap_od = np_standard_d - np_standard_o\n",
    "gap_bias_od = gap_od[:,0]\n",
    "gap_var_od = gap_od[:,1]\n",
    "gap_loss_od = gap_od[:,4]\n",
    "\n",
    "plt.scatter(gap_bias_od,gap_var_od)\n",
    "plt.xlabel(\"Delta Bias\")\n",
    "plt.ylabel(\"Delta Var\")\n",
    "plt.show()"
   ]
  },
  {
   "cell_type": "code",
   "execution_count": 9,
   "metadata": {},
   "outputs": [
    {
     "data": {
      "image/png": "[encoded data removed]",
      "text/plain": [
       "<Figure size 432x288 with 1 Axes>"
      ]
     },
     "metadata": {
      "needs_background": "light"
     },
     "output_type": "display_data"
    }
   ],
   "source": [
    "gap_or = np_standard_r - np_standard_o\n",
    "gap_bias_or = gap_or[:,0]\n",
    "gap_var_or = gap_or[:,1]\n",
    "gap_loss_or = gap_or[:,4]\n",
    "\n",
    "plt.scatter(gap_bias_or,gap_var_or)\n",
    "plt.xlabel(\"Delta Bias\")\n",
    "plt.ylabel(\"Delta Var\")\n",
    "plt.show()"
   ]
  },
  {
   "cell_type": "code",
   "execution_count": null,
   "metadata": {},
   "outputs": [],
   "source": [
    "print(stats.ttest_ind(gap_bias_od,[0]*len(gap_bias_od)))\n",
    "print(stats.ttest_ind(gap_var_od,[0]*len(gap_var_od)))\n",
    "print(stats.ttest_ind(gap_loss_od,[0]*len(gap_loss_od)))\n",
    "\n",
    "\n",
    "print(stats.ttest_ind(gap_bias_or,[0]*len(gap_bias_or)))\n",
    "print(stats.ttest_ind(gap_var_or,[0]*len(gap_var_or)))\n",
    "print(stats.ttest_ind(gap_loss_or,[0]*len(gap_loss_or)))"
   ]
  },
  {
   "cell_type": "code",
   "execution_count": 10,
   "metadata": {},
   "outputs": [
    {
     "data": {
      "image/png": "[encoded data removed]",
      "text/plain": [
       "<Figure size 432x288 with 1 Axes>"
      ]
     },
     "metadata": {
      "needs_background": "light"
     },
     "output_type": "display_data"
    }
   ],
   "source": [
    "gap_od = gap_od[nonsmall_index,:]\n",
    "gap_bias_od = gap_od[:,0]\n",
    "gap_var_od = gap_od[:,1]\n",
    "gap_loss_od = gap_od[:,4]\n",
    "\n",
    "plt.scatter(gap_bias_od,gap_var_od)\n",
    "plt.xlabel(\"Delta Bias\")\n",
    "plt.ylabel(\"Delta Var\")\n",
    "plt.show()"
   ]
  },
  {
   "cell_type": "code",
   "execution_count": 11,
   "metadata": {},
   "outputs": [
    {
     "data": {
      "image/png": "[encoded data removed]",
      "text/plain": [
       "<Figure size 432x288 with 1 Axes>"
      ]
     },
     "metadata": {
      "needs_background": "light"
     },
     "output_type": "display_data"
    }
   ],
   "source": [
    "gap_or = gap_or[nonsmall_index,:]\n",
    "gap_bias_or = gap_or[:,0]\n",
    "gap_var_or = gap_or[:,1]\n",
    "gap_loss_or = gap_or[:,4]\n",
    "\n",
    "plt.scatter(gap_bias_or,gap_var_or)\n",
    "plt.xlabel(\"Delta Bias\")\n",
    "plt.ylabel(\"Delta Var\")\n",
    "plt.show()"
   ]
  },
  {
   "cell_type": "code",
   "execution_count": 12,
   "metadata": {},
   "outputs": [
    {
     "name": "stdout",
     "output_type": "stream",
     "text": [
      "Ttest_indResult(statistic=2.9846647580336856, pvalue=0.003132346228211733)\n",
      "Ttest_indResult(statistic=-0.3312439168034307, pvalue=0.7407492897213575)\n",
      "Ttest_indResult(statistic=-0.26464822407070826, pvalue=0.7915076043601634)\n",
      "Ttest_indResult(statistic=3.4223944860842854, pvalue=0.0007296184859265805)\n",
      "Ttest_indResult(statistic=4.9520252432278795, pvalue=1.3854063752102442e-06)\n",
      "Ttest_indResult(statistic=4.324606446181809, pvalue=2.2417190988192582e-05)\n"
     ]
    }
   ],
   "source": [
    "print(stats.ttest_ind(gap_bias_od,[0]*len(gap_bias_od)))\n",
    "print(stats.ttest_ind(gap_var_od,[0]*len(gap_var_od)))\n",
    "print(stats.ttest_ind(gap_loss_od,[0]*len(gap_loss_od)))\n",
    "\n",
    "\n",
    "print(stats.ttest_ind(gap_bias_or,[0]*len(gap_bias_or)))\n",
    "print(stats.ttest_ind(gap_var_or,[0]*len(gap_var_or)))\n",
    "print(stats.ttest_ind(gap_loss_or,[0]*len(gap_loss_or)))"
   ]
  }
 ],
 "metadata": {
  "kernelspec": {
   "display_name": "Python 3",
   "language": "python",
   "name": "python3"
  },
  "language_info": {
   "codemirror_mode": {
    "name": "ipython",
    "version": 3
   },
   "file_extension": ".py",
   "mimetype": "text/x-python",
   "name": "python",
   "nbconvert_exporter": "python",
   "pygments_lexer": "ipython3",
   "version": "3.7.0"
  }
 },
 "nbformat": 4,
 "nbformat_minor": 2
}
