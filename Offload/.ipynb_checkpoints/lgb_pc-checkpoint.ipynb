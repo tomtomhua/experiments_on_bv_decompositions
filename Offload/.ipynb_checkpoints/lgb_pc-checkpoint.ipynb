{
 "cells": [
  {
   "cell_type": "code",
   "execution_count": 1,
   "metadata": {},
   "outputs": [],
   "source": [
    "from sklearn.linear_model import LogisticRegression\n",
    "from sklearn.naive_bayes import GaussianNB\n",
    "from sklearn.model_selection import train_test_split\n",
    "from sklearn.ensemble import ExtraTreesClassifier\n",
    "\n",
    "import matplotlib.pyplot as plt\n",
    "import seaborn as sb\n",
    "import pandas as pd\n",
    "import numpy as np\n",
    "\n",
    "from pmlb import fetch_data, classification_dataset_names\n",
    "from scipy import stats\n",
    "\n",
    "import random as rd\n",
    "import math\n",
    "\n",
    "import plotly\n",
    "\n",
    "import warnings\n",
    "warnings.filterwarnings('ignore')"
   ]
  },
  {
   "cell_type": "code",
   "execution_count": 2,
   "metadata": {},
   "outputs": [],
   "source": [
    "meta = np.load(\"meta.npy\")\n",
    "#num_precent,sample_num,feature_num,class_num,bin_multi,imbalance\n",
    "bin_index = np.array(np.where(meta[:,4]==0)[0],dtype=np.int)\n",
    "multi_index = np.where(meta[:,4]==1)[0]\n",
    "bin_meta = meta[bin_index,:]\n",
    "# multi_meta = meta[multi_index,:]\n",
    "\n",
    "# small_index = np.array(np.where(meta[:,1]<1000)[0])\n",
    "# large_index = np.array(np.where(meta[:,1]>5000)[0])\n",
    "small_index = np.array(np.where(bin_meta[:,1]<1000)[0])\n",
    "large_index = np.array(np.where(bin_meta[:,1]>5000)[0])\n",
    "\n",
    "\n",
    "\n",
    "\n",
    "# balance_index = np.array(np.where(meta[:,5]<=0.5)[0])\n",
    "# inbalance_index = np.array(np.where(meta[:,5]>0.6)[0])\n",
    "balance_index = np.array(np.where(bin_meta[:,5]<=0.1)[0])\n",
    "inbalance_index = np.array(np.where(bin_meta[:,5]>0.1)[0])"
   ]
  },
  {
   "cell_type": "code",
   "execution_count": 3,
   "metadata": {},
   "outputs": [
    {
     "data": {
      "text/plain": [
       "[91, 63, 9, 25, 66]"
      ]
     },
     "execution_count": 3,
     "metadata": {},
     "output_type": "execute_result"
    }
   ],
   "source": [
    "[len(bin_index),len(small_index),len(large_index),len(inbalance_index),len(balance_index)]"
   ]
  },
  {
   "cell_type": "code",
   "execution_count": 4,
   "metadata": {},
   "outputs": [
    {
     "data": {
      "text/html": [
       "<div>\n",
       "<style scoped>\n",
       "    .dataframe tbody tr th:only-of-type {\n",
       "        vertical-align: middle;\n",
       "    }\n",
       "\n",
       "    .dataframe tbody tr th {\n",
       "        vertical-align: top;\n",
       "    }\n",
       "\n",
       "    .dataframe thead th {\n",
       "        text-align: right;\n",
       "    }\n",
       "</style>\n",
       "<table border=\"1\" class=\"dataframe\">\n",
       "  <thead>\n",
       "    <tr style=\"text-align: right;\">\n",
       "      <th></th>\n",
       "      <th>0</th>\n",
       "      <th>1</th>\n",
       "      <th>2</th>\n",
       "      <th>3</th>\n",
       "      <th>4</th>\n",
       "      <th>5</th>\n",
       "    </tr>\n",
       "  </thead>\n",
       "  <tbody>\n",
       "    <tr>\n",
       "      <th>count</th>\n",
       "      <td>166.000000</td>\n",
       "      <td>1.660000e+02</td>\n",
       "      <td>166.000000</td>\n",
       "      <td>166.000000</td>\n",
       "      <td>166.000000</td>\n",
       "      <td>166.000000</td>\n",
       "    </tr>\n",
       "    <tr>\n",
       "      <th>mean</th>\n",
       "      <td>0.480629</td>\n",
       "      <td>1.381870e+04</td>\n",
       "      <td>35.590361</td>\n",
       "      <td>4.156627</td>\n",
       "      <td>0.451807</td>\n",
       "      <td>0.346646</td>\n",
       "    </tr>\n",
       "    <tr>\n",
       "      <th>std</th>\n",
       "      <td>0.455907</td>\n",
       "      <td>8.884587e+04</td>\n",
       "      <td>102.084996</td>\n",
       "      <td>3.951162</td>\n",
       "      <td>0.499178</td>\n",
       "      <td>0.868384</td>\n",
       "    </tr>\n",
       "    <tr>\n",
       "      <th>min</th>\n",
       "      <td>0.000000</td>\n",
       "      <td>3.200000e+01</td>\n",
       "      <td>2.000000</td>\n",
       "      <td>2.000000</td>\n",
       "      <td>0.000000</td>\n",
       "      <td>0.000000</td>\n",
       "    </tr>\n",
       "    <tr>\n",
       "      <th>25%</th>\n",
       "      <td>0.000000</td>\n",
       "      <td>2.740000e+02</td>\n",
       "      <td>8.000000</td>\n",
       "      <td>2.000000</td>\n",
       "      <td>0.000000</td>\n",
       "      <td>0.001463</td>\n",
       "    </tr>\n",
       "    <tr>\n",
       "      <th>50%</th>\n",
       "      <td>0.375235</td>\n",
       "      <td>6.900000e+02</td>\n",
       "      <td>13.000000</td>\n",
       "      <td>2.000000</td>\n",
       "      <td>0.000000</td>\n",
       "      <td>0.077653</td>\n",
       "    </tr>\n",
       "    <tr>\n",
       "      <th>75%</th>\n",
       "      <td>1.000000</td>\n",
       "      <td>3.180250e+03</td>\n",
       "      <td>29.000000</td>\n",
       "      <td>5.000000</td>\n",
       "      <td>1.000000</td>\n",
       "      <td>0.294897</td>\n",
       "    </tr>\n",
       "    <tr>\n",
       "      <th>max</th>\n",
       "      <td>1.500000</td>\n",
       "      <td>1.025009e+06</td>\n",
       "      <td>1000.000000</td>\n",
       "      <td>26.000000</td>\n",
       "      <td>1.000000</td>\n",
       "      <td>8.406173</td>\n",
       "    </tr>\n",
       "  </tbody>\n",
       "</table>\n",
       "</div>"
      ],
      "text/plain": [
       "                0             1            2           3           4  \\\n",
       "count  166.000000  1.660000e+02   166.000000  166.000000  166.000000   \n",
       "mean     0.480629  1.381870e+04    35.590361    4.156627    0.451807   \n",
       "std      0.455907  8.884587e+04   102.084996    3.951162    0.499178   \n",
       "min      0.000000  3.200000e+01     2.000000    2.000000    0.000000   \n",
       "25%      0.000000  2.740000e+02     8.000000    2.000000    0.000000   \n",
       "50%      0.375235  6.900000e+02    13.000000    2.000000    0.000000   \n",
       "75%      1.000000  3.180250e+03    29.000000    5.000000    1.000000   \n",
       "max      1.500000  1.025009e+06  1000.000000   26.000000    1.000000   \n",
       "\n",
       "                5  \n",
       "count  166.000000  \n",
       "mean     0.346646  \n",
       "std      0.868384  \n",
       "min      0.000000  \n",
       "25%      0.001463  \n",
       "50%      0.077653  \n",
       "75%      0.294897  \n",
       "max      8.406173  "
      ]
     },
     "execution_count": 4,
     "metadata": {},
     "output_type": "execute_result"
    }
   ],
   "source": [
    "pd.DataFrame(meta).describe()"
   ]
  },
  {
   "cell_type": "code",
   "execution_count": null,
   "metadata": {},
   "outputs": [],
   "source": []
  },
  {
   "cell_type": "code",
   "execution_count": 5,
   "metadata": {},
   "outputs": [],
   "source": [
    "epc = np.load(\"lgbpc.npy\")"
   ]
  },
  {
   "cell_type": "code",
   "execution_count": 6,
   "metadata": {},
   "outputs": [
    {
     "data": {
      "text/plain": [
       "(91, 5)"
      ]
     },
     "execution_count": 6,
     "metadata": {},
     "output_type": "execute_result"
    }
   ],
   "source": [
    "epc.shape\n"
   ]
  },
  {
   "cell_type": "code",
   "execution_count": null,
   "metadata": {},
   "outputs": [],
   "source": []
  },
  {
   "cell_type": "code",
   "execution_count": 7,
   "metadata": {},
   "outputs": [],
   "source": [
    "# n_estimators: range(10,70,10):\n",
    "# max_features: [0.05,0.1,0.15,0.2,0.3]:\n",
    "# min_samples_split: range(10,70,10):\n",
    "# min_samples_leaf: [0.05,0.1,0.15,0.2,0.3]:\n",
    "# depth: [depth,int(math.sqrt(depth)),int(math.log2(depth))]:"
   ]
  },
  {
   "cell_type": "code",
   "execution_count": 8,
   "metadata": {},
   "outputs": [],
   "source": [
    "##On Error\n",
    "# plt.figure(figsize = (25,5))\n",
    "# for j in range(0,5):\n",
    "#     test_err = []\n",
    "#     for i in range(0,166):\n",
    "# # remove the small size dataset\n",
    "#         if  np.all(small_index !=i) :\n",
    "#             test_err_i = np.array(epc[i,j])[:,4]\n",
    "#             test_err.append(test_err_i)\n",
    "#     np_test_err = np.array(test_err)\n",
    "#     np_test_err.shape\n",
    "#     plt.subplot(151+j)\n",
    "#     plt.boxplot(np_test_err)\n",
    "# plt.show()"
   ]
  },
  {
   "cell_type": "code",
   "execution_count": 9,
   "metadata": {},
   "outputs": [],
   "source": [
    "# ##On Error \n",
    "# plt.figure(figsize = (25,5))\n",
    "# for j in range(0,5):\n",
    "#     test_err = []\n",
    "#     for i in range(0,166):\n",
    "# #         if i != 121: # remove the small size dataset\n",
    "#         test_err_i = np.array(epc[i,j])[:,4]\n",
    "#         test_err.append(test_err_i)\n",
    "#     np_test_err = np.array(test_err)\n",
    "#     np_test_err.shape\n",
    "#     plt.subplot(151+j)\n",
    "#     plt.boxplot(np_test_err)\n",
    "# plt.show()\n",
    "# ##On bias\n",
    "# plt.figure(figsize = (25,5))\n",
    "# for j in range(0,5):\n",
    "#     test_err = []\n",
    "#     for i in range(0,166):\n",
    "#         test_err_i = np.array(epc[i,j])[:,1]\n",
    "#         test_err.append(test_err_i)\n",
    "#     np_test_err = np.array(test_err)\n",
    "#     np_test_err.shape\n",
    "#     plt.subplot(151+j)\n",
    "#     plt.boxplot(np_test_err)\n",
    "# plt.show()\n",
    "# ##On variance\n",
    "# plt.figure(figsize = (25,5))\n",
    "# for j in range(0,5):\n",
    "#     test_err = []\n",
    "#     for i in range(0,166):\n",
    "#         test_err_i = np.array(epc[i,j])[:,0]\n",
    "#         test_err.append(test_err_i)\n",
    "#     np_test_err = np.array(test_err)\n",
    "#     np_test_err.shape\n",
    "#     plt.subplot(151+j)\n",
    "#     plt.boxplot(np_test_err)\n",
    "# plt.show()"
   ]
  },
  {
   "cell_type": "markdown",
   "metadata": {},
   "source": [
    "# Binary_index "
   ]
  },
  {
   "cell_type": "code",
   "execution_count": 10,
   "metadata": {},
   "outputs": [
    {
     "data": {
      "image/png": "[encoded data removed]",
      "text/plain": [
       "<Figure size 1800x360 with 5 Axes>"
      ]
     },
     "metadata": {
      "needs_background": "light"
     },
     "output_type": "display_data"
    },
    {
     "data": {
      "image/png": "[encoded data removed]",
      "text/plain": [
       "<Figure size 1800x360 with 5 Axes>"
      ]
     },
     "metadata": {
      "needs_background": "light"
     },
     "output_type": "display_data"
    },
    {
     "data": {
      "image/png": "[encoded data removed]",
      "text/plain": [
       "<Figure size 1800x360 with 5 Axes>"
      ]
     },
     "metadata": {
      "needs_background": "light"
     },
     "output_type": "display_data"
    }
   ],
   "source": [
    "##On Error \n",
    "plt.figure(figsize = (25,5))\n",
    "for j in range(0,5):\n",
    "    test_err = []\n",
    "#     for i in bin_index:\n",
    "    for i in range(0,91):\n",
    "#         if i != 121: # remove the small size dataset\n",
    "        test_err_i = np.array(epc[i,j])[:,4]\n",
    "        test_err.append(test_err_i)\n",
    "    np_test_err = np.array(test_err)\n",
    "    np_test_err.shape\n",
    "    plt.subplot(151+j)\n",
    "    plt.boxplot(np_test_err)\n",
    "    plt.ylim([0,1])\n",
    "plt.show()\n",
    "\n",
    "##On bias\n",
    "plt.figure(figsize = (25,5))\n",
    "for j in range(0,5):\n",
    "    test_err = []\n",
    "#     for i in bin_index:\n",
    "    for i in range(0,91):\n",
    "        test_err_i = np.array(epc[i,j])[:,1]\n",
    "        test_err.append(test_err_i)\n",
    "    np_test_err = np.array(test_err)\n",
    "    np_test_err.shape\n",
    "    plt.subplot(151+j)\n",
    "    plt.boxplot(np_test_err)\n",
    "    plt.ylim([0,1])\n",
    "plt.show()\n",
    "##On variance\n",
    "plt.figure(figsize = (25,5))\n",
    "for j in range(0,5):\n",
    "    test_err = []\n",
    "#     for i in bin_index:\n",
    "    for i in range(0,91):\n",
    "        test_err_i = np.array(epc[i,j])[:,0]\n",
    "        test_err.append(test_err_i)\n",
    "    np_test_err = np.array(test_err)\n",
    "    np_test_err.shape\n",
    "    plt.subplot(151+j)\n",
    "    plt.boxplot(np_test_err)\n",
    "    plt.ylim([0,1])\n",
    "plt.show()"
   ]
  },
  {
   "cell_type": "markdown",
   "metadata": {},
   "source": [
    "# Multi index"
   ]
  },
  {
   "cell_type": "code",
   "execution_count": 11,
   "metadata": {},
   "outputs": [],
   "source": [
    "# ##On Error \n",
    "# plt.figure(figsize = (25,5))\n",
    "# for j in range(0,5):\n",
    "#     test_err = []\n",
    "#     for i in multi_index:\n",
    "# #         if i != 121: # remove the small size dataset\n",
    "#         test_err_i = np.array(epc[i,j])[:,4]\n",
    "#         test_err.append(test_err_i)\n",
    "#     np_test_err = np.array(test_err)\n",
    "#     np_test_err.shape\n",
    "#     plt.subplot(151+j)\n",
    "#     plt.boxplot(np_test_err)\n",
    "# plt.show()\n",
    "\n",
    "# ##On bias\n",
    "# plt.figure(figsize = (25,5))\n",
    "# for j in range(0,5):\n",
    "#     test_err = []\n",
    "#     for i in multi_index:\n",
    "#         test_err_i = np.array(epc[i,j])[:,1]\n",
    "#         test_err.append(test_err_i)\n",
    "#     np_test_err = np.array(test_err)\n",
    "#     np_test_err.shape\n",
    "#     plt.subplot(151+j)\n",
    "#     plt.boxplot(np_test_err)\n",
    "# plt.show()\n",
    "# ##On variance\n",
    "# plt.figure(figsize = (25,5))\n",
    "# for j in range(0,5):\n",
    "#     test_err = []\n",
    "#     for i in multi_index:\n",
    "#         test_err_i = np.array(epc[i,j])[:,0]\n",
    "#         test_err.append(test_err_i)\n",
    "#     np_test_err = np.array(test_err)\n",
    "#     np_test_err.shape\n",
    "#     plt.subplot(151+j)\n",
    "#     plt.boxplot(np_test_err)\n",
    "# plt.show()"
   ]
  },
  {
   "cell_type": "markdown",
   "metadata": {},
   "source": [
    "# Small index"
   ]
  },
  {
   "cell_type": "code",
   "execution_count": 12,
   "metadata": {},
   "outputs": [
    {
     "data": {
      "image/png": "[encoded data removed]",
      "text/plain": [
       "<Figure size 1800x360 with 5 Axes>"
      ]
     },
     "metadata": {
      "needs_background": "light"
     },
     "output_type": "display_data"
    },
    {
     "data": {
      "image/png": "[encoded data removed]",
      "text/plain": [
       "<Figure size 1800x360 with 5 Axes>"
      ]
     },
     "metadata": {
      "needs_background": "light"
     },
     "output_type": "display_data"
    },
    {
     "data": {
      "image/png": "[encoded data removed]",
      "text/plain": [
       "<Figure size 1800x360 with 5 Axes>"
      ]
     },
     "metadata": {
      "needs_background": "light"
     },
     "output_type": "display_data"
    }
   ],
   "source": [
    "##On Error \n",
    "plt.figure(figsize = (25,5))\n",
    "for j in range(0,5):\n",
    "    test_err = []\n",
    "    for i in small_index:\n",
    "#         if i != 121: # remove the small size dataset\n",
    "        test_err_i = np.array(epc[i,j])[:,4]\n",
    "        test_err.append(test_err_i)\n",
    "    np_test_err = np.array(test_err)\n",
    "    np_test_err.shape\n",
    "    plt.subplot(151+j)\n",
    "    plt.boxplot(np_test_err)\n",
    "    plt.ylim([0,1])\n",
    "plt.show()\n",
    "\n",
    "##On bias\n",
    "plt.figure(figsize = (25,5))\n",
    "for j in range(0,5):\n",
    "    test_err = []\n",
    "    for i in small_index:\n",
    "        test_err_i = np.array(epc[i,j])[:,1]\n",
    "        test_err.append(test_err_i)\n",
    "    np_test_err = np.array(test_err)\n",
    "    np_test_err.shape\n",
    "    plt.subplot(151+j)\n",
    "    plt.boxplot(np_test_err)\n",
    "    plt.ylim([0,1])\n",
    "plt.show()\n",
    "##On variance\n",
    "plt.figure(figsize = (25,5))\n",
    "for j in range(0,5):\n",
    "    test_err = []\n",
    "    for i in small_index:\n",
    "        test_err_i = np.array(epc[i,j])[:,0]\n",
    "        test_err.append(test_err_i)\n",
    "    np_test_err = np.array(test_err)\n",
    "    np_test_err.shape\n",
    "    plt.subplot(151+j)\n",
    "    plt.boxplot(np_test_err)\n",
    "    plt.ylim([0,1])\n",
    "plt.show()"
   ]
  },
  {
   "cell_type": "markdown",
   "metadata": {},
   "source": [
    "# Large index"
   ]
  },
  {
   "cell_type": "code",
   "execution_count": 13,
   "metadata": {},
   "outputs": [
    {
     "data": {
      "image/png": "[encoded data removed]",
      "text/plain": [
       "<Figure size 1800x360 with 5 Axes>"
      ]
     },
     "metadata": {
      "needs_background": "light"
     },
     "output_type": "display_data"
    },
    {
     "data": {
      "image/png": "[encoded data removed]",
      "text/plain": [
       "<Figure size 1800x360 with 5 Axes>"
      ]
     },
     "metadata": {
      "needs_background": "light"
     },
     "output_type": "display_data"
    },
    {
     "data": {
      "image/png": "[encoded data removed]",
      "text/plain": [
       "<Figure size 1800x360 with 5 Axes>"
      ]
     },
     "metadata": {
      "needs_background": "light"
     },
     "output_type": "display_data"
    }
   ],
   "source": [
    "##On Error \n",
    "plt.figure(figsize = (25,5))\n",
    "for j in range(0,5):\n",
    "    test_err = []\n",
    "    for i in large_index:\n",
    "#         if i != 121: # remove the small size dataset\n",
    "        test_err_i = np.array(epc[i,j])[:,4]\n",
    "        test_err.append(test_err_i)\n",
    "    np_test_err = np.array(test_err)\n",
    "    np_test_err.shape\n",
    "    plt.subplot(151+j)\n",
    "    plt.boxplot(np_test_err)\n",
    "    plt.ylim([0,1])\n",
    "plt.show()\n",
    "\n",
    "##On bias\n",
    "plt.figure(figsize = (25,5))\n",
    "for j in range(0,5):\n",
    "    test_err = []\n",
    "    for i in large_index:\n",
    "        test_err_i = np.array(epc[i,j])[:,1]\n",
    "        test_err.append(test_err_i)\n",
    "    np_test_err = np.array(test_err)\n",
    "    np_test_err.shape\n",
    "    plt.subplot(151+j)\n",
    "    plt.boxplot(np_test_err)\n",
    "    plt.ylim([0,1])\n",
    "plt.show()\n",
    "##On variance\n",
    "plt.figure(figsize = (25,5))\n",
    "for j in range(0,5):\n",
    "    test_err = []\n",
    "    for i in large_index:\n",
    "        test_err_i = np.array(epc[i,j])[:,0]\n",
    "        test_err.append(test_err_i)\n",
    "    np_test_err = np.array(test_err)\n",
    "    np_test_err.shape\n",
    "    plt.subplot(151+j)\n",
    "    plt.boxplot(np_test_err)\n",
    "    plt.ylim([0,1])\n",
    "plt.show()"
   ]
  },
  {
   "cell_type": "markdown",
   "metadata": {},
   "source": [
    "# Inbalance Index"
   ]
  },
  {
   "cell_type": "code",
   "execution_count": 14,
   "metadata": {},
   "outputs": [
    {
     "data": {
      "image/png": "[encoded data removed]",
      "text/plain": [
       "<Figure size 1800x360 with 5 Axes>"
      ]
     },
     "metadata": {
      "needs_background": "light"
     },
     "output_type": "display_data"
    },
    {
     "data": {
      "image/png": "[encoded data removed]",
      "text/plain": [
       "<Figure size 1800x360 with 5 Axes>"
      ]
     },
     "metadata": {
      "needs_background": "light"
     },
     "output_type": "display_data"
    },
    {
     "data": {
      "image/png": "[encoded data removed]",
      "text/plain": [
       "<Figure size 1800x360 with 5 Axes>"
      ]
     },
     "metadata": {
      "needs_background": "light"
     },
     "output_type": "display_data"
    }
   ],
   "source": [
    "##On Error \n",
    "plt.figure(figsize = (25,5))\n",
    "for j in range(0,5):\n",
    "    test_err = []\n",
    "    for i in inbalance_index:\n",
    "#         if i != 121: # remove the small size dataset\n",
    "        test_err_i = np.array(epc[i,j])[:,4]\n",
    "        test_err.append(test_err_i)\n",
    "    np_test_err = np.array(test_err)\n",
    "    np_test_err.shape\n",
    "    plt.subplot(151+j)\n",
    "    plt.boxplot(np_test_err)\n",
    "    plt.ylim([0,1])\n",
    "plt.show()\n",
    "\n",
    "##On bias\n",
    "plt.figure(figsize = (25,5))\n",
    "for j in range(0,5):\n",
    "    test_err = []\n",
    "    for i in inbalance_index:\n",
    "        test_err_i = np.array(epc[i,j])[:,1]\n",
    "        test_err.append(test_err_i)\n",
    "    np_test_err = np.array(test_err)\n",
    "    np_test_err.shape\n",
    "    plt.subplot(151+j)\n",
    "    plt.boxplot(np_test_err)\n",
    "    plt.ylim([0,1])\n",
    "plt.show()\n",
    "##On variance\n",
    "plt.figure(figsize = (25,5))\n",
    "for j in range(0,5):\n",
    "    test_err = []\n",
    "    for i in inbalance_index:\n",
    "        test_err_i = np.array(epc[i,j])[:,0]\n",
    "        test_err.append(test_err_i)\n",
    "    np_test_err = np.array(test_err)\n",
    "    np_test_err.shape\n",
    "    plt.subplot(151+j)\n",
    "    plt.boxplot(np_test_err)\n",
    "    plt.ylim([0,1])\n",
    "plt.show()"
   ]
  },
  {
   "cell_type": "markdown",
   "metadata": {},
   "source": [
    "# Balance Index"
   ]
  },
  {
   "cell_type": "code",
   "execution_count": 15,
   "metadata": {},
   "outputs": [
    {
     "data": {
      "image/png": "[encoded data removed]",
      "text/plain": [
       "<Figure size 1800x360 with 5 Axes>"
      ]
     },
     "metadata": {
      "needs_background": "light"
     },
     "output_type": "display_data"
    },
    {
     "data": {
      "image/png": "[encoded data removed]",
      "text/plain": [
       "<Figure size 1800x360 with 5 Axes>"
      ]
     },
     "metadata": {
      "needs_background": "light"
     },
     "output_type": "display_data"
    },
    {
     "data": {
      "image/png": "[encoded data removed]",
      "text/plain": [
       "<Figure size 1800x360 with 5 Axes>"
      ]
     },
     "metadata": {
      "needs_background": "light"
     },
     "output_type": "display_data"
    }
   ],
   "source": [
    "##On Error \n",
    "plt.figure(figsize = (25,5))\n",
    "for j in range(0,5):\n",
    "    test_err = []\n",
    "    for i in balance_index:\n",
    "#         if i != 121: # remove the small size dataset\n",
    "        test_err_i = np.array(epc[i,j])[:,4]\n",
    "        test_err.append(test_err_i)\n",
    "    np_test_err = np.array(test_err)\n",
    "    np_test_err.shape\n",
    "    plt.subplot(151+j)\n",
    "    plt.boxplot(np_test_err)\n",
    "    plt.ylim([0,1])\n",
    "plt.show()\n",
    "\n",
    "##On bias\n",
    "plt.figure(figsize = (25,5))\n",
    "for j in range(0,5):\n",
    "    test_err = []\n",
    "    for i in balance_index:\n",
    "        test_err_i = np.array(epc[i,j])[:,1]\n",
    "        test_err.append(test_err_i)\n",
    "    np_test_err = np.array(test_err)\n",
    "    np_test_err.shape\n",
    "    plt.subplot(151+j)\n",
    "    plt.boxplot(np_test_err)\n",
    "    plt.ylim([0,1])\n",
    "plt.show()\n",
    "##On variance\n",
    "plt.figure(figsize = (25,5))\n",
    "for j in range(0,5):\n",
    "    test_err = []\n",
    "    for i in balance_index:\n",
    "        test_err_i = np.array(epc[i,j])[:,0]\n",
    "        test_err.append(test_err_i)\n",
    "    np_test_err = np.array(test_err)\n",
    "    np_test_err.shape\n",
    "    plt.subplot(151+j)\n",
    "    plt.boxplot(np_test_err)\n",
    "    plt.ylim([0,1])\n",
    "plt.show()"
   ]
  },
  {
   "cell_type": "code",
   "execution_count": 16,
   "metadata": {},
   "outputs": [
    {
     "name": "stdout",
     "output_type": "stream",
     "text": [
      "F_onewayResult(statistic=0.17164327518045638, pvalue=0.9730554852238409)\n",
      "F_onewayResult(statistic=0.05052926196339651, pvalue=0.9984305107251868)\n",
      "F_onewayResult(statistic=0.08464923534771525, pvalue=0.9946351406478382)\n",
      "F_onewayResult(statistic=0.013714841765268925, pvalue=0.9996290333787673)\n",
      "F_onewayResult(statistic=0.3348908492677961, pvalue=0.8544604270008651)\n",
      "F_onewayResult(statistic=0.02977190097069842, pvalue=0.9982891124219792)\n",
      "F_onewayResult(statistic=0.06361700225447255, pvalue=0.9925330283853517)\n",
      "F_onewayResult(statistic=0.0991224306229258, pvalue=0.9827059280268631)\n",
      "F_onewayResult(statistic=0.02047874893404107, pvalue=0.9991803651987574)\n",
      "F_onewayResult(statistic=2.5680003411125405, pvalue=0.037517699049651604)\n",
      "F_onewayResult(statistic=1.4586010641332474, pvalue=0.21381316057963806)\n",
      "F_onewayResult(statistic=0.82367854271876, pvalue=0.5105192056912571)\n",
      "F_onewayResult(statistic=0.05542229878138708, pvalue=0.9460962929883477)\n",
      "F_onewayResult(statistic=0.1290096031973488, pvalue=0.8790196734411577)\n",
      "F_onewayResult(statistic=0.0019306021504162634, pvalue=0.9980712740409639)\n"
     ]
    }
   ],
   "source": [
    "out_est = []\n",
    "for i in range(0,91):\n",
    "    x = epc[i,0]\n",
    "    out_est.append(x)\n",
    "\n",
    "out_maxf = []\n",
    "for i in range(0,91):\n",
    "    x = epc[i,1]\n",
    "    out_maxf.append(x)\n",
    "    \n",
    "out_minss = []\n",
    "for i in range(0,91):\n",
    "    x = epc[i,2]\n",
    "    out_minss.append(x)\n",
    "    \n",
    "out_minsl = []\n",
    "for i in range(0,91):\n",
    "    x = epc[i,3]\n",
    "    out_minsl.append(x)\n",
    "    \n",
    "out_dep = []\n",
    "for i in range(0,91):\n",
    "    x = epc[i,4]\n",
    "    out_dep.append(x)\n",
    "\n",
    "np_out_est = np.array(out_est)\n",
    "np_out_maxf = np.array(out_maxf)\n",
    "np_out_minss = np.array(out_minss)\n",
    "np_out_minsl = np.array(out_minsl)\n",
    "np_out_dep = np.array(out_dep)\n",
    "\n",
    "\n",
    "np_out_est_bias = np.transpose(np_out_est[:,:,0])\n",
    "np_out_est_var = np.transpose(np_out_est[:,:,1])\n",
    "np_out_est_loss = np.transpose(np_out_est[:,:,4])\n",
    "\n",
    "np_out_maxf_bias = np.transpose(np_out_maxf[:,:,0])\n",
    "np_out_maxf_var = np.transpose(np_out_maxf[:,:,1])\n",
    "np_out_maxf_loss = np.transpose(np_out_maxf[:,:,4])\n",
    "\n",
    "np_out_minss_bias = np.transpose(np_out_minss[:,:,0])\n",
    "np_out_minss_var = np.transpose(np_out_minss[:,:,1])\n",
    "np_out_minss_loss = np.transpose(np_out_minss[:,:,4])\n",
    "\n",
    "np_out_minsl_bias = np.transpose(np_out_minsl[:,:,0])\n",
    "np_out_minsl_var = np.transpose(np_out_minsl[:,:,1])\n",
    "np_out_minsl_loss = np.transpose(np_out_minsl[:,:,4])\n",
    "\n",
    "np_out_dep_bias = np.transpose(np_out_dep[:,:,0])\n",
    "np_out_dep_var = np.transpose(np_out_dep[:,:,1])\n",
    "np_out_dep_loss = np.transpose(np_out_dep[:,:,4])\n",
    "\n",
    "np_out_est_bias.shape\n",
    "\n",
    "print(stats.f_oneway(*np_out_est_bias))\n",
    "\n",
    "print(stats.f_oneway(*np_out_est_var))\n",
    "\n",
    "print(stats.f_oneway(*np_out_est_loss))\n",
    "\n",
    "print(stats.f_oneway(*np_out_maxf_bias))\n",
    "\n",
    "print(stats.f_oneway(*np_out_maxf_var))\n",
    "\n",
    "print(stats.f_oneway(*np_out_maxf_loss))\n",
    "\n",
    "print(stats.f_oneway(*np_out_minss_bias))\n",
    "\n",
    "print(stats.f_oneway(*np_out_minss_var))\n",
    "\n",
    "print(stats.f_oneway(*np_out_minss_loss))\n",
    "\n",
    "print(stats.f_oneway(*np_out_minsl_bias))\n",
    "\n",
    "print(stats.f_oneway(*np_out_minsl_var))\n",
    "\n",
    "print(stats.f_oneway(*np_out_minsl_loss))\n",
    "\n",
    "print(stats.f_oneway(*np_out_dep_bias))\n",
    "\n",
    "print(stats.f_oneway(*np_out_dep_var))\n",
    "\n",
    "print(stats.f_oneway(*np_out_dep_loss))"
   ]
  },
  {
   "cell_type": "code",
   "execution_count": 20,
   "metadata": {},
   "outputs": [
    {
     "data": {
      "text/plain": [
       "(3, 91)"
      ]
     },
     "execution_count": 20,
     "metadata": {},
     "output_type": "execute_result"
    }
   ],
   "source": [
    "pd_out_est_bias = pd.DataFrame(np_out_est_bias)\n",
    "pd_out_est_var = pd.DataFrame(np_out_est_var)\n",
    "pd_out_est_loss = pd.DataFrame(np_out_est_loss)\n",
    "\n",
    "pd_out_maxf_bias = pd.DataFrame(np_out_maxf_bias)\n",
    "pd_out_maxf_var = pd.DataFrame(np_out_maxf_var)\n",
    "pd_out_maxf_loss = pd.DataFrame(np_out_maxf_loss)\n",
    "\n",
    "pd_out_minss_bias = pd.DataFrame(np_out_minss_bias)\n",
    "pd_out_minss_var = pd.DataFrame(np_out_minss_var)\n",
    "pd_out_minss_loss = pd.DataFrame(np_out_minss_loss)\n",
    "\n",
    "pd_out_minsl_bias = pd.DataFrame(np_out_minsl_bias)\n",
    "pd_out_minsl_var = pd.DataFrame(np_out_minsl_bias)\n",
    "pd_out_minsl_loss = pd.DataFrame(np_out_minsl_bias)\n",
    "\n",
    "pd_out_dep_bias = pd.DataFrame(np_out_dep_bias)\n",
    "pd_out_dep_var = pd.DataFrame(np_out_dep_bias)\n",
    "pd_out_dep_loss = pd.DataFrame(np_out_dep_bias)\n",
    "\n"
   ]
  },
  {
   "cell_type": "code",
   "execution_count": null,
   "metadata": {},
   "outputs": [],
   "source": []
  }
 ],
 "metadata": {
  "kernelspec": {
   "display_name": "Python 3",
   "language": "python",
   "name": "python3"
  },
  "language_info": {
   "codemirror_mode": {
    "name": "ipython",
    "version": 3
   },
   "file_extension": ".py",
   "mimetype": "text/x-python",
   "name": "python",
   "nbconvert_exporter": "python",
   "pygments_lexer": "ipython3",
   "version": "3.7.0"
  }
 },
 "nbformat": 4,
 "nbformat_minor": 2
}
